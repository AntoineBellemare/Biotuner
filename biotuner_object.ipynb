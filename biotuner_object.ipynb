{
 "cells": [
  {
   "cell_type": "code",
   "execution_count": 1,
   "metadata": {},
   "outputs": [
    {
     "name": "stdout",
     "output_type": "stream",
     "text": [
      "pygame 2.0.1 (SDL 2.0.14, Python 3.7.4)\n",
      "Hello from the pygame community. https://www.pygame.org/contribute.html\n"
     ]
    }
   ],
   "source": [
    "import numpy as np\n",
    "import math\n",
    "from fractions import Fraction\n",
    "import itertools\n",
    "from biotuner_utils import *\n",
    "from biotuner_offline import *\n",
    "from biotuner import *\n",
    "from biotuner_object import *\n",
    "from biotuner2d import *\n",
    "import matplotlib.pyplot as plt\n",
    "from numpy import array, zeros, ones, arange, log2, sqrt, diff, concatenate\n",
    "import emd\n",
    "from PyEMD import EMD, EEMD\n",
    "from scipy.signal import butter, lfilter\n",
    "import colorednoise as cn\n",
    "\n",
    "import mne\n",
    "import os\n",
    "import time\n"
   ]
  },
  {
   "cell_type": "markdown",
   "metadata": {},
   "source": [
    "#### This notebook is intended to demonstrate the use of the biotuner (https://github.com/antoineBellemare/biotuner/)\n",
    "#### The general idea is extract harmonic information from biological time series to inform the computation of musical structures\n",
    "#### The terms ''tuning'' and ''scale'' will be used interchangeably, referring to a series of ratios that subdivide an octave"
   ]
  },
  {
   "cell_type": "markdown",
   "metadata": {},
   "source": [
    "## Load dataset"
   ]
  },
  {
   "cell_type": "code",
   "execution_count": 2,
   "metadata": {},
   "outputs": [
    {
     "name": "stdout",
     "output_type": "stream",
     "text": [
      "Reading C:/Users/Dell/GitHub/CoCoBrainChannel/pareidolia_run2.fif ...\n"
     ]
    },
    {
     "name": "stderr",
     "output_type": "stream",
     "text": [
      "<ipython-input-2-4c36a6ad8073>:3: RuntimeWarning: This filename (C:/Users/Dell/GitHub/CoCoBrainChannel/pareidolia_run2.fif) does not conform to MNE naming conventions. All epochs files should end with -epo.fif, -epo.fif.gz, _epo.fif or _epo.fif.gz\n",
      "  epochs = mne.read_epochs(path+'pareidolia_run2.fif')\n"
     ]
    },
    {
     "name": "stdout",
     "output_type": "stream",
     "text": [
      "    Found the data of interest:\n",
      "        t =   -1500.00 ...    8000.00 ms\n",
      "        0 CTF compensation matrices available\n"
     ]
    },
    {
     "name": "stderr",
     "output_type": "stream",
     "text": [
      "C:\\Users\\Dell\\Anaconda3\\lib\\site-packages\\mne\\io\\tag.py:427: DeprecationWarning: tostring() is deprecated. Use tobytes() instead.\n",
      "  ch_name = ch_name[:np.argmax(ch_name == b'')].tostring()\n",
      "C:\\Users\\Dell\\Anaconda3\\lib\\site-packages\\mne\\io\\tag.py:427: DeprecationWarning: tostring() is deprecated. Use tobytes() instead.\n",
      "  ch_name = ch_name[:np.argmax(ch_name == b'')].tostring()\n",
      "C:\\Users\\Dell\\Anaconda3\\lib\\site-packages\\mne\\io\\tag.py:427: DeprecationWarning: tostring() is deprecated. Use tobytes() instead.\n",
      "  ch_name = ch_name[:np.argmax(ch_name == b'')].tostring()\n",
      "C:\\Users\\Dell\\Anaconda3\\lib\\site-packages\\mne\\io\\tag.py:427: DeprecationWarning: tostring() is deprecated. Use tobytes() instead.\n",
      "  ch_name = ch_name[:np.argmax(ch_name == b'')].tostring()\n",
      "C:\\Users\\Dell\\Anaconda3\\lib\\site-packages\\mne\\io\\tag.py:427: DeprecationWarning: tostring() is deprecated. Use tobytes() instead.\n",
      "  ch_name = ch_name[:np.argmax(ch_name == b'')].tostring()\n",
      "C:\\Users\\Dell\\Anaconda3\\lib\\site-packages\\mne\\io\\tag.py:427: DeprecationWarning: tostring() is deprecated. Use tobytes() instead.\n",
      "  ch_name = ch_name[:np.argmax(ch_name == b'')].tostring()\n",
      "C:\\Users\\Dell\\Anaconda3\\lib\\site-packages\\mne\\io\\tag.py:427: DeprecationWarning: tostring() is deprecated. Use tobytes() instead.\n",
      "  ch_name = ch_name[:np.argmax(ch_name == b'')].tostring()\n",
      "C:\\Users\\Dell\\Anaconda3\\lib\\site-packages\\mne\\io\\tag.py:427: DeprecationWarning: tostring() is deprecated. Use tobytes() instead.\n",
      "  ch_name = ch_name[:np.argmax(ch_name == b'')].tostring()\n",
      "C:\\Users\\Dell\\Anaconda3\\lib\\site-packages\\mne\\io\\tag.py:427: DeprecationWarning: tostring() is deprecated. Use tobytes() instead.\n",
      "  ch_name = ch_name[:np.argmax(ch_name == b'')].tostring()\n",
      "C:\\Users\\Dell\\Anaconda3\\lib\\site-packages\\mne\\io\\tag.py:427: DeprecationWarning: tostring() is deprecated. Use tobytes() instead.\n",
      "  ch_name = ch_name[:np.argmax(ch_name == b'')].tostring()\n",
      "C:\\Users\\Dell\\Anaconda3\\lib\\site-packages\\mne\\io\\tag.py:427: DeprecationWarning: tostring() is deprecated. Use tobytes() instead.\n",
      "  ch_name = ch_name[:np.argmax(ch_name == b'')].tostring()\n",
      "C:\\Users\\Dell\\Anaconda3\\lib\\site-packages\\mne\\io\\tag.py:427: DeprecationWarning: tostring() is deprecated. Use tobytes() instead.\n",
      "  ch_name = ch_name[:np.argmax(ch_name == b'')].tostring()\n",
      "C:\\Users\\Dell\\Anaconda3\\lib\\site-packages\\mne\\io\\tag.py:427: DeprecationWarning: tostring() is deprecated. Use tobytes() instead.\n",
      "  ch_name = ch_name[:np.argmax(ch_name == b'')].tostring()\n",
      "C:\\Users\\Dell\\Anaconda3\\lib\\site-packages\\mne\\io\\tag.py:427: DeprecationWarning: tostring() is deprecated. Use tobytes() instead.\n",
      "  ch_name = ch_name[:np.argmax(ch_name == b'')].tostring()\n",
      "C:\\Users\\Dell\\Anaconda3\\lib\\site-packages\\mne\\io\\tag.py:427: DeprecationWarning: tostring() is deprecated. Use tobytes() instead.\n",
      "  ch_name = ch_name[:np.argmax(ch_name == b'')].tostring()\n",
      "C:\\Users\\Dell\\Anaconda3\\lib\\site-packages\\mne\\io\\tag.py:427: DeprecationWarning: tostring() is deprecated. Use tobytes() instead.\n",
      "  ch_name = ch_name[:np.argmax(ch_name == b'')].tostring()\n",
      "C:\\Users\\Dell\\Anaconda3\\lib\\site-packages\\mne\\io\\tag.py:427: DeprecationWarning: tostring() is deprecated. Use tobytes() instead.\n",
      "  ch_name = ch_name[:np.argmax(ch_name == b'')].tostring()\n",
      "C:\\Users\\Dell\\Anaconda3\\lib\\site-packages\\mne\\io\\tag.py:427: DeprecationWarning: tostring() is deprecated. Use tobytes() instead.\n",
      "  ch_name = ch_name[:np.argmax(ch_name == b'')].tostring()\n",
      "C:\\Users\\Dell\\Anaconda3\\lib\\site-packages\\mne\\io\\tag.py:427: DeprecationWarning: tostring() is deprecated. Use tobytes() instead.\n",
      "  ch_name = ch_name[:np.argmax(ch_name == b'')].tostring()\n",
      "C:\\Users\\Dell\\Anaconda3\\lib\\site-packages\\mne\\io\\tag.py:427: DeprecationWarning: tostring() is deprecated. Use tobytes() instead.\n",
      "  ch_name = ch_name[:np.argmax(ch_name == b'')].tostring()\n",
      "C:\\Users\\Dell\\Anaconda3\\lib\\site-packages\\mne\\io\\tag.py:427: DeprecationWarning: tostring() is deprecated. Use tobytes() instead.\n",
      "  ch_name = ch_name[:np.argmax(ch_name == b'')].tostring()\n",
      "C:\\Users\\Dell\\Anaconda3\\lib\\site-packages\\mne\\io\\tag.py:427: DeprecationWarning: tostring() is deprecated. Use tobytes() instead.\n",
      "  ch_name = ch_name[:np.argmax(ch_name == b'')].tostring()\n",
      "C:\\Users\\Dell\\Anaconda3\\lib\\site-packages\\mne\\io\\tag.py:427: DeprecationWarning: tostring() is deprecated. Use tobytes() instead.\n",
      "  ch_name = ch_name[:np.argmax(ch_name == b'')].tostring()\n",
      "C:\\Users\\Dell\\Anaconda3\\lib\\site-packages\\mne\\io\\tag.py:427: DeprecationWarning: tostring() is deprecated. Use tobytes() instead.\n",
      "  ch_name = ch_name[:np.argmax(ch_name == b'')].tostring()\n",
      "C:\\Users\\Dell\\Anaconda3\\lib\\site-packages\\mne\\io\\tag.py:427: DeprecationWarning: tostring() is deprecated. Use tobytes() instead.\n",
      "  ch_name = ch_name[:np.argmax(ch_name == b'')].tostring()\n",
      "C:\\Users\\Dell\\Anaconda3\\lib\\site-packages\\mne\\io\\tag.py:427: DeprecationWarning: tostring() is deprecated. Use tobytes() instead.\n",
      "  ch_name = ch_name[:np.argmax(ch_name == b'')].tostring()\n",
      "C:\\Users\\Dell\\Anaconda3\\lib\\site-packages\\mne\\io\\tag.py:427: DeprecationWarning: tostring() is deprecated. Use tobytes() instead.\n",
      "  ch_name = ch_name[:np.argmax(ch_name == b'')].tostring()\n",
      "C:\\Users\\Dell\\Anaconda3\\lib\\site-packages\\mne\\io\\tag.py:427: DeprecationWarning: tostring() is deprecated. Use tobytes() instead.\n",
      "  ch_name = ch_name[:np.argmax(ch_name == b'')].tostring()\n",
      "C:\\Users\\Dell\\Anaconda3\\lib\\site-packages\\mne\\io\\tag.py:427: DeprecationWarning: tostring() is deprecated. Use tobytes() instead.\n",
      "  ch_name = ch_name[:np.argmax(ch_name == b'')].tostring()\n",
      "C:\\Users\\Dell\\Anaconda3\\lib\\site-packages\\mne\\io\\tag.py:427: DeprecationWarning: tostring() is deprecated. Use tobytes() instead.\n",
      "  ch_name = ch_name[:np.argmax(ch_name == b'')].tostring()\n",
      "C:\\Users\\Dell\\Anaconda3\\lib\\site-packages\\mne\\io\\tag.py:427: DeprecationWarning: tostring() is deprecated. Use tobytes() instead.\n",
      "  ch_name = ch_name[:np.argmax(ch_name == b'')].tostring()\n",
      "C:\\Users\\Dell\\Anaconda3\\lib\\site-packages\\mne\\io\\tag.py:427: DeprecationWarning: tostring() is deprecated. Use tobytes() instead.\n",
      "  ch_name = ch_name[:np.argmax(ch_name == b'')].tostring()\n",
      "C:\\Users\\Dell\\Anaconda3\\lib\\site-packages\\mne\\io\\tag.py:427: DeprecationWarning: tostring() is deprecated. Use tobytes() instead.\n",
      "  ch_name = ch_name[:np.argmax(ch_name == b'')].tostring()\n",
      "C:\\Users\\Dell\\Anaconda3\\lib\\site-packages\\mne\\io\\tag.py:427: DeprecationWarning: tostring() is deprecated. Use tobytes() instead.\n",
      "  ch_name = ch_name[:np.argmax(ch_name == b'')].tostring()\n",
      "C:\\Users\\Dell\\Anaconda3\\lib\\site-packages\\mne\\io\\tag.py:427: DeprecationWarning: tostring() is deprecated. Use tobytes() instead.\n",
      "  ch_name = ch_name[:np.argmax(ch_name == b'')].tostring()\n",
      "C:\\Users\\Dell\\Anaconda3\\lib\\site-packages\\mne\\io\\tag.py:427: DeprecationWarning: tostring() is deprecated. Use tobytes() instead.\n",
      "  ch_name = ch_name[:np.argmax(ch_name == b'')].tostring()\n",
      "C:\\Users\\Dell\\Anaconda3\\lib\\site-packages\\mne\\io\\tag.py:427: DeprecationWarning: tostring() is deprecated. Use tobytes() instead.\n",
      "  ch_name = ch_name[:np.argmax(ch_name == b'')].tostring()\n",
      "C:\\Users\\Dell\\Anaconda3\\lib\\site-packages\\mne\\io\\tag.py:427: DeprecationWarning: tostring() is deprecated. Use tobytes() instead.\n",
      "  ch_name = ch_name[:np.argmax(ch_name == b'')].tostring()\n",
      "C:\\Users\\Dell\\Anaconda3\\lib\\site-packages\\mne\\io\\tag.py:427: DeprecationWarning: tostring() is deprecated. Use tobytes() instead.\n",
      "  ch_name = ch_name[:np.argmax(ch_name == b'')].tostring()\n",
      "C:\\Users\\Dell\\Anaconda3\\lib\\site-packages\\mne\\io\\tag.py:427: DeprecationWarning: tostring() is deprecated. Use tobytes() instead.\n",
      "  ch_name = ch_name[:np.argmax(ch_name == b'')].tostring()\n",
      "C:\\Users\\Dell\\Anaconda3\\lib\\site-packages\\mne\\io\\tag.py:427: DeprecationWarning: tostring() is deprecated. Use tobytes() instead.\n",
      "  ch_name = ch_name[:np.argmax(ch_name == b'')].tostring()\n",
      "C:\\Users\\Dell\\Anaconda3\\lib\\site-packages\\mne\\io\\tag.py:427: DeprecationWarning: tostring() is deprecated. Use tobytes() instead.\n",
      "  ch_name = ch_name[:np.argmax(ch_name == b'')].tostring()\n",
      "C:\\Users\\Dell\\Anaconda3\\lib\\site-packages\\mne\\io\\tag.py:427: DeprecationWarning: tostring() is deprecated. Use tobytes() instead.\n",
      "  ch_name = ch_name[:np.argmax(ch_name == b'')].tostring()\n",
      "C:\\Users\\Dell\\Anaconda3\\lib\\site-packages\\mne\\io\\tag.py:427: DeprecationWarning: tostring() is deprecated. Use tobytes() instead.\n",
      "  ch_name = ch_name[:np.argmax(ch_name == b'')].tostring()\n",
      "C:\\Users\\Dell\\Anaconda3\\lib\\site-packages\\mne\\io\\tag.py:427: DeprecationWarning: tostring() is deprecated. Use tobytes() instead.\n",
      "  ch_name = ch_name[:np.argmax(ch_name == b'')].tostring()\n",
      "C:\\Users\\Dell\\Anaconda3\\lib\\site-packages\\mne\\io\\tag.py:427: DeprecationWarning: tostring() is deprecated. Use tobytes() instead.\n",
      "  ch_name = ch_name[:np.argmax(ch_name == b'')].tostring()\n",
      "C:\\Users\\Dell\\Anaconda3\\lib\\site-packages\\mne\\io\\tag.py:427: DeprecationWarning: tostring() is deprecated. Use tobytes() instead.\n",
      "  ch_name = ch_name[:np.argmax(ch_name == b'')].tostring()\n",
      "C:\\Users\\Dell\\Anaconda3\\lib\\site-packages\\mne\\io\\tag.py:427: DeprecationWarning: tostring() is deprecated. Use tobytes() instead.\n",
      "  ch_name = ch_name[:np.argmax(ch_name == b'')].tostring()\n",
      "C:\\Users\\Dell\\Anaconda3\\lib\\site-packages\\mne\\io\\tag.py:427: DeprecationWarning: tostring() is deprecated. Use tobytes() instead.\n",
      "  ch_name = ch_name[:np.argmax(ch_name == b'')].tostring()\n",
      "C:\\Users\\Dell\\Anaconda3\\lib\\site-packages\\mne\\io\\tag.py:427: DeprecationWarning: tostring() is deprecated. Use tobytes() instead.\n",
      "  ch_name = ch_name[:np.argmax(ch_name == b'')].tostring()\n",
      "C:\\Users\\Dell\\Anaconda3\\lib\\site-packages\\mne\\io\\tag.py:427: DeprecationWarning: tostring() is deprecated. Use tobytes() instead.\n",
      "  ch_name = ch_name[:np.argmax(ch_name == b'')].tostring()\n",
      "C:\\Users\\Dell\\Anaconda3\\lib\\site-packages\\mne\\io\\tag.py:427: DeprecationWarning: tostring() is deprecated. Use tobytes() instead.\n",
      "  ch_name = ch_name[:np.argmax(ch_name == b'')].tostring()\n",
      "C:\\Users\\Dell\\Anaconda3\\lib\\site-packages\\mne\\io\\tag.py:427: DeprecationWarning: tostring() is deprecated. Use tobytes() instead.\n",
      "  ch_name = ch_name[:np.argmax(ch_name == b'')].tostring()\n",
      "C:\\Users\\Dell\\Anaconda3\\lib\\site-packages\\mne\\io\\tag.py:427: DeprecationWarning: tostring() is deprecated. Use tobytes() instead.\n",
      "  ch_name = ch_name[:np.argmax(ch_name == b'')].tostring()\n",
      "C:\\Users\\Dell\\Anaconda3\\lib\\site-packages\\mne\\io\\tag.py:427: DeprecationWarning: tostring() is deprecated. Use tobytes() instead.\n",
      "  ch_name = ch_name[:np.argmax(ch_name == b'')].tostring()\n",
      "C:\\Users\\Dell\\Anaconda3\\lib\\site-packages\\mne\\io\\tag.py:427: DeprecationWarning: tostring() is deprecated. Use tobytes() instead.\n",
      "  ch_name = ch_name[:np.argmax(ch_name == b'')].tostring()\n",
      "C:\\Users\\Dell\\Anaconda3\\lib\\site-packages\\mne\\io\\tag.py:427: DeprecationWarning: tostring() is deprecated. Use tobytes() instead.\n",
      "  ch_name = ch_name[:np.argmax(ch_name == b'')].tostring()\n",
      "C:\\Users\\Dell\\Anaconda3\\lib\\site-packages\\mne\\io\\tag.py:427: DeprecationWarning: tostring() is deprecated. Use tobytes() instead.\n",
      "  ch_name = ch_name[:np.argmax(ch_name == b'')].tostring()\n",
      "C:\\Users\\Dell\\Anaconda3\\lib\\site-packages\\mne\\io\\tag.py:427: DeprecationWarning: tostring() is deprecated. Use tobytes() instead.\n",
      "  ch_name = ch_name[:np.argmax(ch_name == b'')].tostring()\n",
      "C:\\Users\\Dell\\Anaconda3\\lib\\site-packages\\mne\\io\\tag.py:427: DeprecationWarning: tostring() is deprecated. Use tobytes() instead.\n",
      "  ch_name = ch_name[:np.argmax(ch_name == b'')].tostring()\n",
      "C:\\Users\\Dell\\Anaconda3\\lib\\site-packages\\mne\\io\\tag.py:427: DeprecationWarning: tostring() is deprecated. Use tobytes() instead.\n",
      "  ch_name = ch_name[:np.argmax(ch_name == b'')].tostring()\n",
      "C:\\Users\\Dell\\Anaconda3\\lib\\site-packages\\mne\\io\\tag.py:427: DeprecationWarning: tostring() is deprecated. Use tobytes() instead.\n",
      "  ch_name = ch_name[:np.argmax(ch_name == b'')].tostring()\n",
      "C:\\Users\\Dell\\Anaconda3\\lib\\site-packages\\mne\\io\\tag.py:427: DeprecationWarning: tostring() is deprecated. Use tobytes() instead.\n",
      "  ch_name = ch_name[:np.argmax(ch_name == b'')].tostring()\n",
      "C:\\Users\\Dell\\Anaconda3\\lib\\site-packages\\mne\\io\\tag.py:427: DeprecationWarning: tostring() is deprecated. Use tobytes() instead.\n",
      "  ch_name = ch_name[:np.argmax(ch_name == b'')].tostring()\n",
      "C:\\Users\\Dell\\Anaconda3\\lib\\site-packages\\mne\\io\\tag.py:427: DeprecationWarning: tostring() is deprecated. Use tobytes() instead.\n",
      "  ch_name = ch_name[:np.argmax(ch_name == b'')].tostring()\n",
      "C:\\Users\\Dell\\Anaconda3\\lib\\site-packages\\mne\\io\\tag.py:427: DeprecationWarning: tostring() is deprecated. Use tobytes() instead.\n",
      "  ch_name = ch_name[:np.argmax(ch_name == b'')].tostring()\n",
      "C:\\Users\\Dell\\Anaconda3\\lib\\site-packages\\mne\\io\\tag.py:427: DeprecationWarning: tostring() is deprecated. Use tobytes() instead.\n",
      "  ch_name = ch_name[:np.argmax(ch_name == b'')].tostring()\n",
      "C:\\Users\\Dell\\Anaconda3\\lib\\site-packages\\mne\\io\\tag.py:427: DeprecationWarning: tostring() is deprecated. Use tobytes() instead.\n",
      "  ch_name = ch_name[:np.argmax(ch_name == b'')].tostring()\n",
      "C:\\Users\\Dell\\Anaconda3\\lib\\site-packages\\mne\\io\\tag.py:427: DeprecationWarning: tostring() is deprecated. Use tobytes() instead.\n",
      "  ch_name = ch_name[:np.argmax(ch_name == b'')].tostring()\n",
      "C:\\Users\\Dell\\Anaconda3\\lib\\site-packages\\mne\\io\\tag.py:427: DeprecationWarning: tostring() is deprecated. Use tobytes() instead.\n",
      "  ch_name = ch_name[:np.argmax(ch_name == b'')].tostring()\n",
      "C:\\Users\\Dell\\Anaconda3\\lib\\site-packages\\mne\\io\\tag.py:427: DeprecationWarning: tostring() is deprecated. Use tobytes() instead.\n",
      "  ch_name = ch_name[:np.argmax(ch_name == b'')].tostring()\n",
      "C:\\Users\\Dell\\Anaconda3\\lib\\site-packages\\mne\\io\\tag.py:427: DeprecationWarning: tostring() is deprecated. Use tobytes() instead.\n",
      "  ch_name = ch_name[:np.argmax(ch_name == b'')].tostring()\n",
      "C:\\Users\\Dell\\Anaconda3\\lib\\site-packages\\mne\\io\\tag.py:427: DeprecationWarning: tostring() is deprecated. Use tobytes() instead.\n",
      "  ch_name = ch_name[:np.argmax(ch_name == b'')].tostring()\n",
      "C:\\Users\\Dell\\Anaconda3\\lib\\site-packages\\mne\\io\\tag.py:427: DeprecationWarning: tostring() is deprecated. Use tobytes() instead.\n",
      "  ch_name = ch_name[:np.argmax(ch_name == b'')].tostring()\n",
      "C:\\Users\\Dell\\Anaconda3\\lib\\site-packages\\mne\\io\\tag.py:427: DeprecationWarning: tostring() is deprecated. Use tobytes() instead.\n",
      "  ch_name = ch_name[:np.argmax(ch_name == b'')].tostring()\n",
      "C:\\Users\\Dell\\Anaconda3\\lib\\site-packages\\mne\\io\\tag.py:427: DeprecationWarning: tostring() is deprecated. Use tobytes() instead.\n",
      "  ch_name = ch_name[:np.argmax(ch_name == b'')].tostring()\n",
      "C:\\Users\\Dell\\Anaconda3\\lib\\site-packages\\mne\\io\\tag.py:427: DeprecationWarning: tostring() is deprecated. Use tobytes() instead.\n",
      "  ch_name = ch_name[:np.argmax(ch_name == b'')].tostring()\n",
      "C:\\Users\\Dell\\Anaconda3\\lib\\site-packages\\mne\\io\\tag.py:427: DeprecationWarning: tostring() is deprecated. Use tobytes() instead.\n",
      "  ch_name = ch_name[:np.argmax(ch_name == b'')].tostring()\n",
      "C:\\Users\\Dell\\Anaconda3\\lib\\site-packages\\mne\\io\\tag.py:427: DeprecationWarning: tostring() is deprecated. Use tobytes() instead.\n",
      "  ch_name = ch_name[:np.argmax(ch_name == b'')].tostring()\n",
      "C:\\Users\\Dell\\Anaconda3\\lib\\site-packages\\mne\\io\\tag.py:427: DeprecationWarning: tostring() is deprecated. Use tobytes() instead.\n",
      "  ch_name = ch_name[:np.argmax(ch_name == b'')].tostring()\n",
      "C:\\Users\\Dell\\Anaconda3\\lib\\site-packages\\mne\\io\\tag.py:427: DeprecationWarning: tostring() is deprecated. Use tobytes() instead.\n",
      "  ch_name = ch_name[:np.argmax(ch_name == b'')].tostring()\n",
      "C:\\Users\\Dell\\Anaconda3\\lib\\site-packages\\mne\\io\\tag.py:427: DeprecationWarning: tostring() is deprecated. Use tobytes() instead.\n",
      "  ch_name = ch_name[:np.argmax(ch_name == b'')].tostring()\n",
      "C:\\Users\\Dell\\Anaconda3\\lib\\site-packages\\mne\\io\\tag.py:427: DeprecationWarning: tostring() is deprecated. Use tobytes() instead.\n",
      "  ch_name = ch_name[:np.argmax(ch_name == b'')].tostring()\n",
      "C:\\Users\\Dell\\Anaconda3\\lib\\site-packages\\mne\\io\\tag.py:427: DeprecationWarning: tostring() is deprecated. Use tobytes() instead.\n",
      "  ch_name = ch_name[:np.argmax(ch_name == b'')].tostring()\n",
      "C:\\Users\\Dell\\Anaconda3\\lib\\site-packages\\mne\\io\\tag.py:427: DeprecationWarning: tostring() is deprecated. Use tobytes() instead.\n",
      "  ch_name = ch_name[:np.argmax(ch_name == b'')].tostring()\n",
      "C:\\Users\\Dell\\Anaconda3\\lib\\site-packages\\mne\\io\\tag.py:427: DeprecationWarning: tostring() is deprecated. Use tobytes() instead.\n",
      "  ch_name = ch_name[:np.argmax(ch_name == b'')].tostring()\n",
      "C:\\Users\\Dell\\Anaconda3\\lib\\site-packages\\mne\\io\\tag.py:427: DeprecationWarning: tostring() is deprecated. Use tobytes() instead.\n",
      "  ch_name = ch_name[:np.argmax(ch_name == b'')].tostring()\n",
      "C:\\Users\\Dell\\Anaconda3\\lib\\site-packages\\mne\\io\\tag.py:427: DeprecationWarning: tostring() is deprecated. Use tobytes() instead.\n",
      "  ch_name = ch_name[:np.argmax(ch_name == b'')].tostring()\n",
      "C:\\Users\\Dell\\Anaconda3\\lib\\site-packages\\mne\\io\\tag.py:427: DeprecationWarning: tostring() is deprecated. Use tobytes() instead.\n",
      "  ch_name = ch_name[:np.argmax(ch_name == b'')].tostring()\n",
      "C:\\Users\\Dell\\Anaconda3\\lib\\site-packages\\mne\\io\\tag.py:427: DeprecationWarning: tostring() is deprecated. Use tobytes() instead.\n",
      "  ch_name = ch_name[:np.argmax(ch_name == b'')].tostring()\n",
      "C:\\Users\\Dell\\Anaconda3\\lib\\site-packages\\mne\\io\\tag.py:427: DeprecationWarning: tostring() is deprecated. Use tobytes() instead.\n",
      "  ch_name = ch_name[:np.argmax(ch_name == b'')].tostring()\n",
      "C:\\Users\\Dell\\Anaconda3\\lib\\site-packages\\mne\\io\\tag.py:427: DeprecationWarning: tostring() is deprecated. Use tobytes() instead.\n",
      "  ch_name = ch_name[:np.argmax(ch_name == b'')].tostring()\n",
      "C:\\Users\\Dell\\Anaconda3\\lib\\site-packages\\mne\\io\\tag.py:427: DeprecationWarning: tostring() is deprecated. Use tobytes() instead.\n",
      "  ch_name = ch_name[:np.argmax(ch_name == b'')].tostring()\n",
      "C:\\Users\\Dell\\Anaconda3\\lib\\site-packages\\mne\\io\\tag.py:427: DeprecationWarning: tostring() is deprecated. Use tobytes() instead.\n",
      "  ch_name = ch_name[:np.argmax(ch_name == b'')].tostring()\n",
      "C:\\Users\\Dell\\Anaconda3\\lib\\site-packages\\mne\\io\\tag.py:427: DeprecationWarning: tostring() is deprecated. Use tobytes() instead.\n",
      "  ch_name = ch_name[:np.argmax(ch_name == b'')].tostring()\n",
      "C:\\Users\\Dell\\Anaconda3\\lib\\site-packages\\mne\\io\\tag.py:427: DeprecationWarning: tostring() is deprecated. Use tobytes() instead.\n",
      "  ch_name = ch_name[:np.argmax(ch_name == b'')].tostring()\n",
      "C:\\Users\\Dell\\Anaconda3\\lib\\site-packages\\mne\\io\\tag.py:427: DeprecationWarning: tostring() is deprecated. Use tobytes() instead.\n",
      "  ch_name = ch_name[:np.argmax(ch_name == b'')].tostring()\n",
      "C:\\Users\\Dell\\Anaconda3\\lib\\site-packages\\mne\\io\\tag.py:427: DeprecationWarning: tostring() is deprecated. Use tobytes() instead.\n",
      "  ch_name = ch_name[:np.argmax(ch_name == b'')].tostring()\n",
      "C:\\Users\\Dell\\Anaconda3\\lib\\site-packages\\mne\\io\\tag.py:427: DeprecationWarning: tostring() is deprecated. Use tobytes() instead.\n",
      "  ch_name = ch_name[:np.argmax(ch_name == b'')].tostring()\n",
      "C:\\Users\\Dell\\Anaconda3\\lib\\site-packages\\mne\\io\\tag.py:427: DeprecationWarning: tostring() is deprecated. Use tobytes() instead.\n",
      "  ch_name = ch_name[:np.argmax(ch_name == b'')].tostring()\n",
      "C:\\Users\\Dell\\Anaconda3\\lib\\site-packages\\mne\\io\\tag.py:427: DeprecationWarning: tostring() is deprecated. Use tobytes() instead.\n",
      "  ch_name = ch_name[:np.argmax(ch_name == b'')].tostring()\n",
      "C:\\Users\\Dell\\Anaconda3\\lib\\site-packages\\mne\\io\\tag.py:427: DeprecationWarning: tostring() is deprecated. Use tobytes() instead.\n",
      "  ch_name = ch_name[:np.argmax(ch_name == b'')].tostring()\n",
      "C:\\Users\\Dell\\Anaconda3\\lib\\site-packages\\mne\\io\\tag.py:427: DeprecationWarning: tostring() is deprecated. Use tobytes() instead.\n",
      "  ch_name = ch_name[:np.argmax(ch_name == b'')].tostring()\n",
      "C:\\Users\\Dell\\Anaconda3\\lib\\site-packages\\mne\\io\\tag.py:427: DeprecationWarning: tostring() is deprecated. Use tobytes() instead.\n",
      "  ch_name = ch_name[:np.argmax(ch_name == b'')].tostring()\n",
      "C:\\Users\\Dell\\Anaconda3\\lib\\site-packages\\mne\\io\\tag.py:427: DeprecationWarning: tostring() is deprecated. Use tobytes() instead.\n",
      "  ch_name = ch_name[:np.argmax(ch_name == b'')].tostring()\n",
      "C:\\Users\\Dell\\Anaconda3\\lib\\site-packages\\mne\\io\\tag.py:427: DeprecationWarning: tostring() is deprecated. Use tobytes() instead.\n",
      "  ch_name = ch_name[:np.argmax(ch_name == b'')].tostring()\n",
      "C:\\Users\\Dell\\Anaconda3\\lib\\site-packages\\mne\\io\\tag.py:427: DeprecationWarning: tostring() is deprecated. Use tobytes() instead.\n",
      "  ch_name = ch_name[:np.argmax(ch_name == b'')].tostring()\n",
      "C:\\Users\\Dell\\Anaconda3\\lib\\site-packages\\mne\\io\\tag.py:427: DeprecationWarning: tostring() is deprecated. Use tobytes() instead.\n",
      "  ch_name = ch_name[:np.argmax(ch_name == b'')].tostring()\n",
      "C:\\Users\\Dell\\Anaconda3\\lib\\site-packages\\mne\\io\\tag.py:427: DeprecationWarning: tostring() is deprecated. Use tobytes() instead.\n",
      "  ch_name = ch_name[:np.argmax(ch_name == b'')].tostring()\n",
      "C:\\Users\\Dell\\Anaconda3\\lib\\site-packages\\mne\\io\\tag.py:427: DeprecationWarning: tostring() is deprecated. Use tobytes() instead.\n",
      "  ch_name = ch_name[:np.argmax(ch_name == b'')].tostring()\n",
      "C:\\Users\\Dell\\Anaconda3\\lib\\site-packages\\mne\\io\\tag.py:427: DeprecationWarning: tostring() is deprecated. Use tobytes() instead.\n",
      "  ch_name = ch_name[:np.argmax(ch_name == b'')].tostring()\n",
      "C:\\Users\\Dell\\Anaconda3\\lib\\site-packages\\mne\\io\\tag.py:427: DeprecationWarning: tostring() is deprecated. Use tobytes() instead.\n",
      "  ch_name = ch_name[:np.argmax(ch_name == b'')].tostring()\n",
      "C:\\Users\\Dell\\Anaconda3\\lib\\site-packages\\mne\\io\\tag.py:427: DeprecationWarning: tostring() is deprecated. Use tobytes() instead.\n",
      "  ch_name = ch_name[:np.argmax(ch_name == b'')].tostring()\n",
      "C:\\Users\\Dell\\Anaconda3\\lib\\site-packages\\mne\\io\\tag.py:427: DeprecationWarning: tostring() is deprecated. Use tobytes() instead.\n",
      "  ch_name = ch_name[:np.argmax(ch_name == b'')].tostring()\n",
      "C:\\Users\\Dell\\Anaconda3\\lib\\site-packages\\mne\\io\\tag.py:348: DeprecationWarning: tostring() is deprecated. Use tobytes() instead.\n",
      "  return str(d.tostring().decode('latin1', 'ignore'))\n",
      "C:\\Users\\Dell\\Anaconda3\\lib\\site-packages\\mne\\io\\tag.py:348: DeprecationWarning: tostring() is deprecated. Use tobytes() instead.\n",
      "  return str(d.tostring().decode('latin1', 'ignore'))\n"
     ]
    },
    {
     "name": "stdout",
     "output_type": "stream",
     "text": [
      "104 matching events found\n",
      "Applying baseline correction (mode: mean)\n",
      "Not setting metadata\n",
      "0 projection items activated\n",
      "Applying baseline correction (mode: mean)\n"
     ]
    }
   ],
   "source": [
    "\n",
    "#path = 'D:/Science/EEG_data/'\n",
    "path = 'C:/Users/Dell/GitHub/CoCoBrainChannel/'\n",
    "epochs = mne.read_epochs(path+'pareidolia_run2.fif')\n",
    "epochs = epochs.apply_baseline((-1.5, -0.1))\n",
    "#epochs = epochs.crop(0.5, 7.5)\n",
    "epochs_data = epochs.get_data()"
   ]
  },
  {
   "cell_type": "markdown",
   "metadata": {},
   "source": [
    "## peaks_extraction and peaks_extension methods\n",
    "\n",
    "There is no minimum size for time series. However, time series shorter than 1 second will not allow for peak extraction below 2Hz.\n",
    "\n",
    "Peaks functions:\n",
    "\n",
    "'fixed' : ranges of frequency bands are fixed\n",
    "\n",
    "'adapt' : ranges of frequency bands are defined based on the alpha peak\n",
    "\n",
    "'EMD': Intrinsic Mode Functions (IMFs) are derived from Empirical Mode Decomposition (EMD)  \n",
    "                   FFT is computed on each IMF\n",
    "                   \n",
    "'EEMD': Intrinsic Mode Functions (IMFs) are derived from Ensemble Empirical Mode Decomposition (EMD)  \n",
    "                    FFT is computed on each IMF\n",
    "                    \n",
    "'HH1D_max': maximum values of the 1d Hilbert-Huang transform on each IMF using EEMD.\n",
    "\n",
    "'harmonic_peaks': keeps peaks for which a maximum of other peaks are harmonics\n",
    "\n",
    "'cepstrum': peak frequencies of the cepstrum (inverse Fourier transform (IFT) of the logarithm of the estimated signal spectrum)\n",
    "\n",
    "'FOOOF' : peaks rising above the aperiodic component"
   ]
  },
  {
   "cell_type": "code",
   "execution_count": 3,
   "metadata": {
    "scrolled": false
   },
   "outputs": [
    {
     "name": "stdout",
     "output_type": "stream",
     "text": [
      "0.04260563850402832\n"
     ]
    },
    {
     "name": "stderr",
     "output_type": "stream",
     "text": [
      "C:\\Users\\Dell\\Anaconda3\\lib\\site-packages\\scipy\\signal\\spectral.py:1966: UserWarning: nperseg = 10000 is greater than input length  = 2000, using nperseg = 2000\n",
      "  .format(nperseg, input_length))\n",
      "C:\\Users\\Dell\\GitHub\\biotuner\\biotuner.py:157: VisibleDeprecationWarning: Creating an ndarray from ragged nested sequences (which is a list-or-tuple of lists-or-tuples-or ndarrays with different lengths or shapes) is deprecated. If you meant to do this, you must specify 'dtype=object' when creating the ndarray\n",
      "  harm_fit = np.array(harm_temp).squeeze()\n"
     ]
    }
   ],
   "source": [
    "\n",
    "start = time.time()\n",
    "FREQ_BANDS = [[1, 3], [3, 7], [7, 12], [12, 18], [18, 30], [30, 45]] # Define frequency bands for peaks_function = 'fixed'\n",
    "data = epochs_data[7][35][3000:5000] # Define data (single time series)\n",
    "\n",
    "\n",
    "biotuning = biotuner(sf = 1000, peaks_function = 'EEMD', precision = 0.1, n_harm = 10,\n",
    "                    ratios_n_harms = 5, ratios_inc_fit = True, ratios_inc = True) # Initialize biotuner object\n",
    "\n",
    "biotuning.peaks_extraction(data, FREQ_BANDS = FREQ_BANDS, ratios_extension = True, max_freq = 50)\n",
    "biotuning.compute_peaks_metrics()\n",
    "\n",
    "stop = time.time()\n",
    "print(stop-start)"
   ]
  },
  {
   "cell_type": "code",
   "execution_count": 4,
   "metadata": {},
   "outputs": [
    {
     "name": "stdout",
     "output_type": "stream",
     "text": [
      "Peaks: [ 1.2  1.8  7.4  7.6 19.3]\n",
      "Peaks consonance metrics: {'cons': 0.11302430065479308, 'euler': 253, 'tenney': 9.404897667257403, 'harm_fit': 22, 'harmsim': 11.025164788459032}\n"
     ]
    }
   ],
   "source": [
    "print('Peaks:', biotuning.peaks)\n",
    "print('Peaks consonance metrics:', biotuning.peaks_metrics)"
   ]
  },
  {
   "cell_type": "markdown",
   "metadata": {},
   "source": [
    "## Dissonance curve\n",
    "\n",
    "The dissonance curve needs as input a list of peaks and a list of associated amplitudes. Since providing less than 6 spectral peaks would lead to less interesting dissonance curve, the method ''peaks_extension'' provides a way to extend the number of peaks based on the harmonic_fit function (see biotuner.py)\n",
    "\n",
    "peaks_extension methods: \n",
    "['harmonic_fit', 'consonant', 'multi_consonant', 'consonant_harmonic_fit', 'multi_consonant_harmonic_fit']"
   ]
  },
  {
   "cell_type": "code",
   "execution_count": 5,
   "metadata": {},
   "outputs": [
    {
     "name": "stdout",
     "output_type": "stream",
     "text": [
      "[1400, 1500, 1710, 2000]\n"
     ]
    },
    {
     "data": {
      "image/png": "[encoded data removed]",
      "text/plain": [
       "<Figure size 1008x432 with 1 Axes>"
      ]
     },
     "metadata": {
      "needs_background": "light"
     },
     "output_type": "display_data"
    },
    {
     "name": "stdout",
     "output_type": "stream",
     "text": [
      "intervals [(7, 5), (3, 2), (12, 7), (2, 1)]\n"
     ]
    }
   ],
   "source": [
    "biotuning.peaks_extension(method = 'consonant_harmonic_fit', harm_function = 'mult',  n_harm = 2, cons_limit = 0.1, \n",
    "                          ratios_extension = True, scale_cons_limit = 0.1)\n",
    "biotuning.compute_diss_curve(plot = True, input_type = 'extended_peaks', euler_comp = False, denom = 100, max_ratio = 2, n_tet_grid = 12)\n"
   ]
  },
  {
   "cell_type": "code",
   "execution_count": 6,
   "metadata": {},
   "outputs": [
    {
     "name": "stdout",
     "output_type": "stream",
     "text": [
      "Dissonance curve metrics: {'diss_euler': 'NaN', 'dissonance': 1.027787301252536, 'diss_harm_sim': 39.84126984126984, 'diss_n_steps': 4}\n",
      "Dissonance curve tuning: [1.4, 1.5, 1.7142857142857142, 2.0]\n",
      "Dissonance curve consonant tuning: [1.4   1.5   1.714 2.   ]\n"
     ]
    }
   ],
   "source": [
    "print('Dissonance curve metrics:', biotuning.scale_metrics)\n",
    "print('Dissonance curve tuning:', biotuning.diss_scale)\n",
    "print('Dissonance curve consonant tuning:', biotuning.diss_scale_cons)"
   ]
  },
  {
   "cell_type": "code",
   "execution_count": 7,
   "metadata": {},
   "outputs": [
    {
     "data": {
      "text/plain": [
       "[Fraction(7, 5), Fraction(3, 2), Fraction(12, 7), Fraction(2, 1)]"
      ]
     },
     "execution_count": 7,
     "metadata": {},
     "output_type": "execute_result"
    }
   ],
   "source": [
    "### If you want the tuning in fraction\n",
    "scale_frac, num, denom = scale2frac (biotuning.diss_scale, maxdenom = 1000)\n",
    "scale_frac"
   ]
  },
  {
   "cell_type": "markdown",
   "metadata": {},
   "source": [
    "## Harmonic entropy\n",
    "\n",
    "Harmonic entropy takes as input a list of ratios.\n",
    "\n",
    "If input_type = 'peaks' or 'extended_peaks', their ratios will be used.\n",
    "Other input types use extended ratios : see biotuner ref.\n",
    "\n",
    "'extended_ratios_inc'  (increments of the ratios in the form of 'r^1, r^2, r^3, ... r^n)\n",
    "\n",
    "'extended_ratios_inc_fit' (harmonic fit between the ratios increments)\n",
    "\n",
    "'extended_ratios_harm'\n"
   ]
  },
  {
   "cell_type": "code",
   "execution_count": 8,
   "metadata": {},
   "outputs": [
    {
     "data": {
      "image/png": "[encoded data removed]",
      "text/plain": [
       "<Figure size 1500x600 with 1 Axes>"
      ]
     },
     "metadata": {
      "needs_background": "light"
     },
     "output_type": "display_data"
    }
   ],
   "source": [
    "biotuning.peaks_extension(method = 'consonant_harmonic_fit', harm_function = 'mult',  n_harm = 20, \n",
    "                          cons_limit = 0.1, ratios_extension = True)\n",
    "biotuning.compute_harmonic_entropy(input_type = 'extended_ratios_inc', plot_entropy = True, octave = 2, rebound = False, \n",
    "                                   scale_cons_limit = 0.01, sub=False)"
   ]
  },
  {
   "cell_type": "code",
   "execution_count": 9,
   "metadata": {},
   "outputs": [
    {
     "name": "stdout",
     "output_type": "stream",
     "text": [
      "Harmonic entropy metrics: {'diss_euler': 'NaN', 'dissonance': 1.027787301252536, 'diss_harm_sim': 39.84126984126984, 'diss_n_steps': 4, 'HE': 4.249283522549746, 'HE_n_steps': 19, 'HE_harm_sim': 2.357021919634874}\n",
      "Harmonic entropy tuning: [1.019 1.048 1.094 1.138 1.2   1.246 1.272 1.317 1.383 1.437 1.466 1.502\n",
      " 1.549 1.62  1.743 1.845 1.885 1.937 1.995]\n",
      "Harmonic entropy consonant tuning: [1.048 1.2   1.272 1.62 ]\n"
     ]
    }
   ],
   "source": [
    "print('Harmonic entropy metrics:', biotuning.scale_metrics)\n",
    "print('Harmonic entropy tuning:', biotuning.HE_scale)\n",
    "print('Harmonic entropy consonant tuning:', biotuning.HE_scale_cons)"
   ]
  },
  {
   "cell_type": "code",
   "execution_count": 10,
   "metadata": {},
   "outputs": [
    {
     "data": {
      "text/plain": [
       "[Fraction(54, 53),\n",
       " Fraction(87, 83),\n",
       " Fraction(93, 85),\n",
       " Fraction(33, 29),\n",
       " Fraction(6, 5),\n",
       " Fraction(76, 61),\n",
       " Fraction(117, 92),\n",
       " Fraction(54, 41),\n",
       " Fraction(65, 47),\n",
       " Fraction(125, 87),\n",
       " Fraction(129, 88),\n",
       " Fraction(3, 2),\n",
       " Fraction(79, 51),\n",
       " Fraction(81, 50),\n",
       " Fraction(61, 35),\n",
       " Fraction(131, 71),\n",
       " Fraction(164, 87),\n",
       " Fraction(184, 95),\n",
       " Fraction(199, 100)]"
      ]
     },
     "execution_count": 10,
     "metadata": {},
     "output_type": "execute_result"
    }
   ],
   "source": [
    "### If you want the tuning in fraction\n",
    "scale_frac, num, denom = scale2frac (biotuning.HE_scale, maxdenom = 100)\n",
    "scale_frac"
   ]
  },
  {
   "cell_type": "markdown",
   "metadata": {},
   "source": [
    "##  Deriving tunings from peaks ratios"
   ]
  },
  {
   "cell_type": "code",
   "execution_count": 11,
   "metadata": {},
   "outputs": [
    {
     "data": {
      "text/plain": [
       "[1.0052083333333335,\n",
       " 1.027027027027027,\n",
       " 1.027777777777778,\n",
       " 1.0555555555555556,\n",
       " 1.2697368421052633,\n",
       " 1.304054054054054,\n",
       " 1.340277777777778,\n",
       " 1.5,\n",
       " 1.5416666666666667,\n",
       " 1.5833333333333333]"
      ]
     },
     "execution_count": 11,
     "metadata": {},
     "output_type": "execute_result"
    }
   ],
   "source": [
    "biotuning.peaks_ratios  #peaks ratios"
   ]
  },
  {
   "cell_type": "markdown",
   "metadata": {},
   "source": [
    "extended peaks ratios with higher consonance levels\n",
    "\n",
    "adjust the 'scale_cons_limit' value:\n",
    "Comparisons with familiar ratios:\n",
    "        #Unison-frequency ratio 1:1 yields a value of 2\n",
    "        Octave-frequency ratio 2:1 yields a value of 1.5\n",
    "        Perfect 5th-frequency ratio 3:2 yields a value of 0.833\n",
    "        Perfect 4th-frequency ratio 4:3 yields a value of 0.583\n",
    "        Major 6th-frequency ratio 5:3 yields a value of 0.533\n",
    "        Major 3rd-frequency ratio 5:4 yields a value of 0.45\n",
    "        Minor 3rd-frequency ratio 5:6 yields a value of 0.366\n",
    "        Minor 6th-frequency ratio 5:8 yields a value of 0.325\n",
    "        Major 2nd-frequency ratio 8:9 yields a value of 0.236\n",
    "        Major 7th-frequency ratio 8:15 yields a value of 0.192\n",
    "        Minor 7th-frequency ratio 9:16 yields a value of 0.174\n",
    "        Minor 2nd-frequency ratio 15:16 yields a value of 0.129"
   ]
  },
  {
   "cell_type": "code",
   "execution_count": 12,
   "metadata": {},
   "outputs": [
    {
     "data": {
      "text/plain": [
       "array([1.125, 1.167, 1.2  , 1.25 , 1.286, 1.333, 1.4  , 1.5  , 1.667,\n",
       "       1.75 , 1.8  , 1.833, 2.   ])"
      ]
     },
     "execution_count": 12,
     "metadata": {},
     "output_type": "execute_result"
    }
   ],
   "source": [
    "biotuning.peaks_extension(method = 'consonant_harmonic_fit', harm_function = 'mult',  n_harm = 20, \n",
    "                          cons_limit = 0.1, ratios_extension = True, scale_cons_limit = 0.235) \n",
    "biotuning.extended_peaks_ratios_cons"
   ]
  },
  {
   "cell_type": "markdown",
   "metadata": {},
   "source": [
    "## Exporting scale in scala format"
   ]
  },
  {
   "cell_type": "code",
   "execution_count": 13,
   "metadata": {},
   "outputs": [],
   "source": [
    "create_SCL(biotuning.HE_scale, 'Harmonic_entropy_scale')\n",
    "create_SCL(biotuning.diss_scale, 'Dissonance_curve_scale')\n",
    "create_SCL(biotuning.peaks_ratios, 'Peaks_ratios_scale')\n",
    "create_SCL(biotuning.extended_peaks_ratios_cons, 'consonant_extended_peaks_ratios_scale')\n"
   ]
  },
  {
   "cell_type": "markdown",
   "metadata": {},
   "source": [
    "## Computing scale metrics "
   ]
  },
  {
   "cell_type": "markdown",
   "metadata": {},
   "source": [
    "#### From peaks ratios"
   ]
  },
  {
   "cell_type": "code",
   "execution_count": 14,
   "metadata": {},
   "outputs": [
    {
     "data": {
      "text/plain": [
       "{'sum_p_q': 1690,\n",
       " 'sum_distinct_intervals': 99,\n",
       " 'metric_3': 298.495421032703,\n",
       " 'sum_p_q_for_all_intervals': 198255,\n",
       " 'sum_q_for_all_intervals': 90780,\n",
       " 'harm_sim': 11.24}"
      ]
     },
     "execution_count": 14,
     "metadata": {},
     "output_type": "execute_result"
    }
   ],
   "source": [
    "metrics_peaks, _ = scale_to_metrics(biotuning.peaks_ratios)\n",
    "metrics_peaks"
   ]
  },
  {
   "cell_type": "markdown",
   "metadata": {},
   "source": [
    "#### From dissonance curve tuning"
   ]
  },
  {
   "cell_type": "code",
   "execution_count": 15,
   "metadata": {},
   "outputs": [
    {
     "data": {
      "text/plain": [
       "{'sum_p_q': 39,\n",
       " 'sum_distinct_intervals': 18,\n",
       " 'metric_3': 6.90000000000000,\n",
       " 'sum_p_q_for_all_intervals': 549,\n",
       " 'sum_q_for_all_intervals': 235,\n",
       " 'harm_sim': 54.88}"
      ]
     },
     "execution_count": 15,
     "metadata": {},
     "output_type": "execute_result"
    }
   ],
   "source": [
    "metrics_peaks, _ = scale_to_metrics(biotuning.diss_scale)\n",
    "metrics_peaks"
   ]
  },
  {
   "cell_type": "markdown",
   "metadata": {},
   "source": [
    "## Spectromorphological computation"
   ]
  },
  {
   "cell_type": "code",
   "execution_count": 16,
   "metadata": {},
   "outputs": [
    {
     "name": "stdout",
     "output_type": "stream",
     "text": [
      "NAN []\n",
      "2\n"
     ]
    },
    {
     "data": {
      "image/png": "[encoded data removed]",
      "text/plain": [
       "<Figure size 432x288 with 1 Axes>"
      ]
     },
     "metadata": {
      "needs_background": "light"
     },
     "output_type": "display_data"
    }
   ],
   "source": [
    "biotuning.compute_spectromorph(comp_chords = True, method = 'SpectralCentroid', min_notes = 4, cons_limit = 35, cons_chord_method = 'euler', \n",
    "                               window = 500, overlap = 1, graph = True)\n",
    "\n"
   ]
  },
  {
   "cell_type": "code",
   "execution_count": 17,
   "metadata": {},
   "outputs": [
    {
     "data": {
      "text/plain": [
       "[[36.0, 12.5, 7.5, 2.1, 1.8],\n",
       " [35.0, 10.5, 6.6, 2.2, 2.7],\n",
       " [38.4, 10.8, 5.2, 2.8, 1.8],\n",
       " [40.5, 11.7, 3.6, 2.0, 1.3],\n",
       " [32.0, 13.5, 5.0, 2.2, 1.1],\n",
       " [36.0, 14.4, 7.0, 3.3, 1.1]]"
      ]
     },
     "execution_count": 17,
     "metadata": {},
     "output_type": "execute_result"
    }
   ],
   "source": [
    "biotuning.spectro_chords #correspond to moment in time when IMFs reach a level of consonance"
   ]
  },
  {
   "cell_type": "markdown",
   "metadata": {},
   "source": [
    "## Classical tuning creation from peaks and extended peaks"
   ]
  },
  {
   "cell_type": "code",
   "execution_count": 18,
   "metadata": {},
   "outputs": [],
   "source": [
    "#Initiate object and extract peak information\n",
    "biotuning_class_scales = biotuner(sf = 1000, peaks_function = 'EEMD', precision = 0.1, n_harm = 10,\n",
    "                    ratios_n_harms = 5, ratios_inc_fit = True, ratios_inc = True) # Initialize biotuner object\n",
    "\n",
    "biotuning_class_scales.peaks_extraction(data, FREQ_BANDS = FREQ_BANDS, ratios_extension = True, max_freq = 50)"
   ]
  },
  {
   "cell_type": "markdown",
   "metadata": {},
   "source": [
    "#### Euler-Fokker Genera using peaks as generators (using method)"
   ]
  },
  {
   "cell_type": "code",
   "execution_count": 19,
   "metadata": {},
   "outputs": [
    {
     "data": {
      "text/plain": [
       "[1, 133/128, 19/16, 49/32, 7/4, 931/512, 2]"
      ]
     },
     "execution_count": 19,
     "metadata": {},
     "output_type": "execute_result"
    }
   ],
   "source": [
    "biotuning_class_scales.euler_fokker_scale(biotuning.peaks)"
   ]
  },
  {
   "cell_type": "markdown",
   "metadata": {},
   "source": [
    "#### Euler-Fokker Genera using extended peaks as generators (using function)"
   ]
  },
  {
   "cell_type": "code",
   "execution_count": 20,
   "metadata": {},
   "outputs": [
    {
     "ename": "NameError",
     "evalue": "name 'self' is not defined",
     "output_type": "error",
     "traceback": [
      "\u001b[1;31m---------------------------------------------------------------------------\u001b[0m",
      "\u001b[1;31mNameError\u001b[0m                                 Traceback (most recent call last)",
      "\u001b[1;32m<ipython-input-20-076987379a0c>\u001b[0m in \u001b[0;36m<module>\u001b[1;34m\u001b[0m\n\u001b[0;32m      1\u001b[0m biotuning_class_scales.peaks_extension(method = 'consonant_harmonic_fit', harm_function = 'div', div_mode = 'div_add', n_harm = 3, \n\u001b[0;32m      2\u001b[0m                           cons_limit = 0.6, ratios_extension = True)\n\u001b[1;32m----> 3\u001b[1;33m \u001b[0meuler_fokker_scale\u001b[0m\u001b[1;33m(\u001b[0m\u001b[0mbiotuning_class_scales\u001b[0m\u001b[1;33m.\u001b[0m\u001b[0mextended_peaks\u001b[0m\u001b[1;33m)\u001b[0m\u001b[1;33m\u001b[0m\u001b[1;33m\u001b[0m\u001b[0m\n\u001b[0m",
      "\u001b[1;32m~\\GitHub\\biotuner\\biotuner.py\u001b[0m in \u001b[0;36meuler_fokker_scale\u001b[1;34m(intervals)\u001b[0m\n\u001b[0;32m    716\u001b[0m         \u001b[0mmultiplicities\u001b[0m \u001b[1;33m=\u001b[0m \u001b[1;33m[\u001b[0m\u001b[1;36m1\u001b[0m \u001b[1;32mfor\u001b[0m \u001b[0mx\u001b[0m \u001b[1;32min\u001b[0m \u001b[0mintervals\u001b[0m\u001b[1;33m]\u001b[0m\u001b[1;33m\u001b[0m\u001b[1;33m\u001b[0m\u001b[0m\n\u001b[0;32m    717\u001b[0m         \u001b[0mscale\u001b[0m \u001b[1;33m=\u001b[0m \u001b[0mcreate_euler_fokker_scale\u001b[0m\u001b[1;33m(\u001b[0m\u001b[0mintervals\u001b[0m\u001b[1;33m,\u001b[0m \u001b[0mmultiplicities\u001b[0m\u001b[1;33m)\u001b[0m\u001b[1;33m\u001b[0m\u001b[1;33m\u001b[0m\u001b[0m\n\u001b[1;32m--> 718\u001b[1;33m         \u001b[0mself\u001b[0m\u001b[1;33m.\u001b[0m\u001b[0meuler_fokker\u001b[0m \u001b[1;33m=\u001b[0m \u001b[0mscale\u001b[0m\u001b[1;33m\u001b[0m\u001b[1;33m\u001b[0m\u001b[0m\n\u001b[0m\u001b[0;32m    719\u001b[0m         \u001b[1;32mreturn\u001b[0m \u001b[0mscale\u001b[0m\u001b[1;33m\u001b[0m\u001b[1;33m\u001b[0m\u001b[0m\n\u001b[0;32m    720\u001b[0m \u001b[1;31m#Dissonance\u001b[0m\u001b[1;33m\u001b[0m\u001b[1;33m\u001b[0m\u001b[1;33m\u001b[0m\u001b[0m\n",
      "\u001b[1;31mNameError\u001b[0m: name 'self' is not defined"
     ]
    }
   ],
   "source": [
    "biotuning_class_scales.peaks_extension(method = 'consonant_harmonic_fit', harm_function = 'div', div_mode = 'div_add', n_harm = 3, \n",
    "                          cons_limit = 0.6, ratios_extension = True)\n",
    "euler_fokker_scale(biotuning_class_scales.extended_peaks)"
   ]
  },
  {
   "cell_type": "code",
   "execution_count": null,
   "metadata": {},
   "outputs": [],
   "source": [
    "biotuning_class_scales.peaks_extension(method = 'consonant_harmonic_fit', harm_function = 'mult', div_mode = 'div_add', n_harm = 3, \n",
    "                          cons_limit = 0.6, ratios_extension = True)\n",
    "biotuning_class_scales.euler_fokker_scale(biotuning.extended_peaks)"
   ]
  },
  {
   "cell_type": "markdown",
   "metadata": {},
   "source": [
    "#### Harmonic scale using harmonic numbers of peaks"
   ]
  },
  {
   "cell_type": "code",
   "execution_count": null,
   "metadata": {},
   "outputs": [],
   "source": [
    "biotuning_harm_peaks = biotuner(sf = 1000, peaks_function = 'harmonic_peaks', precision = 0.1, n_harm = 10,\n",
    "                    ratios_n_harms = 5, ratios_inc_fit = True, ratios_inc = True) # Initialize biotuner object\n",
    "\n",
    "biotuning_harm_peaks.peaks_extraction(data, FREQ_BANDS = FREQ_BANDS, ratios_extension = True, max_freq = 50)"
   ]
  },
  {
   "cell_type": "code",
   "execution_count": null,
   "metadata": {},
   "outputs": [],
   "source": [
    "harm_tuning = harmonic_tuning(biotuning_harm_peaks.all_harmonics)\n",
    "harm_tuning"
   ]
  },
  {
   "cell_type": "code",
   "execution_count": null,
   "metadata": {},
   "outputs": [],
   "source": [
    "metrics, _ = scale_to_metrics(harm_tuning)\n",
    "metrics"
   ]
  },
  {
   "cell_type": "code",
   "execution_count": null,
   "metadata": {},
   "outputs": [],
   "source": []
  }
 ],
 "metadata": {
  "kernelspec": {
   "display_name": "Python 3",
   "language": "python",
   "name": "python3"
  },
  "language_info": {
   "codemirror_mode": {
    "name": "ipython",
    "version": 3
   },
   "file_extension": ".py",
   "mimetype": "text/x-python",
   "name": "python",
   "nbconvert_exporter": "python",
   "pygments_lexer": "ipython3",
   "version": "3.7.4"
  }
 },
 "nbformat": 4,
 "nbformat_minor": 2
}
