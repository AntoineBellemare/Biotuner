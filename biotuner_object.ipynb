{
 "cells": [
  {
   "cell_type": "code",
   "execution_count": 1,
   "metadata": {},
   "outputs": [
    {
     "name": "stdout",
     "output_type": "stream",
     "text": [
      "pygame 2.0.1 (SDL 2.0.14, Python 3.8.5)\n",
      "Hello from the pygame community. https://www.pygame.org/contribute.html\n"
     ]
    }
   ],
   "source": [
    "import numpy as np\n",
    "import math\n",
    "from fractions import Fraction\n",
    "import itertools\n",
    "from biotuner_utils import *\n",
    "from biotuner_offline import *\n",
    "import matplotlib.pyplot as plt\n",
    "from numpy import array, zeros, ones, arange, log2, sqrt, diff, concatenate\n",
    "import emd\n",
    "from PyEMD import EMD, EEMD\n",
    "from scipy.signal import butter, lfilter\n",
    "import colorednoise as cn\n",
    "from biotuner import *\n",
    "import mne"
   ]
  },
  {
   "cell_type": "markdown",
   "metadata": {},
   "source": [
    "## Load dataset"
   ]
  },
  {
   "cell_type": "code",
   "execution_count": 2,
   "metadata": {},
   "outputs": [
    {
     "name": "stdout",
     "output_type": "stream",
     "text": [
      "Reading D:/Science/EEG_data/pareidolia_run2.fif ...\n",
      "    Found the data of interest:\n",
      "        t =   -1500.00 ...    8000.00 ms\n",
      "        0 CTF compensation matrices available\n"
     ]
    },
    {
     "name": "stderr",
     "output_type": "stream",
     "text": [
      "<ipython-input-2-3a5d2e6fe601>:3: RuntimeWarning: This filename (D:/Science/EEG_data/pareidolia_run2.fif) does not conform to MNE naming conventions. All epochs files should end with -epo.fif, -epo.fif.gz, _epo.fif or _epo.fif.gz\n",
      "  epochs = mne.read_epochs(path+'pareidolia_run2.fif')\n"
     ]
    },
    {
     "name": "stdout",
     "output_type": "stream",
     "text": [
      "Not setting metadata\n",
      "Not setting metadata\n",
      "104 matching events found\n",
      "No baseline correction applied\n",
      "0 projection items activated\n",
      "Applying baseline correction (mode: mean)\n"
     ]
    }
   ],
   "source": [
    "\n",
    "path = 'D:/Science/EEG_data/'\n",
    "#path = 'C:/Users/Dell/GitHub/CoCoBrainChannel/'\n",
    "epochs = mne.read_epochs(path+'pareidolia_run2.fif')\n",
    "#epochs = mne.read_epochs('C:/Users/Antoine/github/Data_EEG/pareidolia_run1.fif')\n",
    "epochs = epochs.apply_baseline((-1.5, -0.1))\n",
    "#epochs = epochs.crop(0.5, 7.5)\n",
    "epochs_data = epochs.get_data()"
   ]
  },
  {
   "cell_type": "markdown",
   "metadata": {},
   "source": [
    "## Initialize biotuner object and methods"
   ]
  },
  {
   "cell_type": "code",
   "execution_count": 3,
   "metadata": {},
   "outputs": [],
   "source": [
    "class biotuner(object):\n",
    "    \n",
    "    '''Class used to derive peaks information, musical scales and related metrics from time series  \n",
    "    \n",
    "    Example of use:       \n",
    "    biotuning = biotuner(sf = 1000)\n",
    "    biotuning.peaks_extraction(data)\n",
    "    biotuning.peaks_extension()\n",
    "    biotuning.peaks_metrics()\n",
    "    '''\n",
    "    \n",
    "    def __init__(self, sf, peaks_function = 'EEMD', precision = 0.2, compute_sub_ratios = False, \n",
    "                 n_harm = 10, harm_function = 'mult', extension_method = 'consonant_harmonic_fit',\n",
    "                 ratios_harms = False, ratios_inc = False, ratios_inc_fit = False, ratios_n_harms = 5):\n",
    "        '''Initializing sampling frequency'''\n",
    "        self.sf = sf\n",
    "        '''Initializing arguments for peak extraction\n",
    "           peaks_function: method used to extract the peaks ['EEMD', 'EMD', 'HH1D_max', 'adapt', 'fixed']\n",
    "           precision: precision of the peaks in Hz\n",
    "           compute_sub_ratios: when set to True, include ratios < 1 in peaks_ratios attribute [True, False]'''\n",
    "        self.peaks_function = peaks_function\n",
    "        self.precision = precision\n",
    "        self.compute_sub_ratios = compute_sub_ratios\n",
    "        '''Initializing arguments for peaks metrics\n",
    "           n_harm: number of harmonics to compute in harmonic_fit function\n",
    "           harm_function: compute harmonics from iterative multiplication (x, 2x, 3x, ...nx) or division (x, x/2, x/3, ...x/n) ['mult', 'div']\n",
    "           extension_method: ['harmonic_fit', 'consonant', 'multi_consonant', 'consonant_harmonic_fit', 'multi_consonant_harmonic_fit']'''\n",
    "        self.n_harm = n_harm\n",
    "        self.harm_function = harm_function\n",
    "        self.extension_method = extension_method\n",
    "        '''Initializing dictionary for scales metrics'''\n",
    "        self.scale_metrics = {}\n",
    "        '''Initializing arguments for ratios extension'''\n",
    "        self.ratios_harms = ratios_harms\n",
    "        self.ratios_inc = ratios_inc\n",
    "        self.ratios_inc_fit = ratios_inc_fit\n",
    "        self.ratios_n_harms = ratios_n_harms\n",
    "    \n",
    "    \n",
    "    '''First method to use. Requires data as input argument\n",
    "       Generates self.peaks and self.peaks_ratios attributes'''\n",
    "\n",
    "    def peaks_extraction (self, data, peaks_function = None, FREQ_BANDS = None, precision = None, sf = None, max_freq = 80, \n",
    "                          compute_sub_ratios = None, ratios_extension = False):\n",
    "        \n",
    "        \n",
    "        self.data = data\n",
    "        if sf == None:\n",
    "            sf = self.sf\n",
    "        if precision == None:\n",
    "            precision = self.precision\n",
    "        if peaks_function == None:\n",
    "            peaks_function = self.peaks_function\n",
    "        if compute_sub_ratios == None:\n",
    "            compute_sub_ratios = self.compute_sub_ratios\n",
    "        self.peaks, self.amps = self.compute_peaks_ts (data, peaks_function = peaks_function, FREQ_BANDS = None, precision = precision, sf = sf, max_freq = max_freq)\n",
    "\n",
    "        self.peaks_ratios = compute_peak_ratios(self.peaks, rebound = True, octave = 2, sub = compute_sub_ratios)\n",
    "        if ratios_extension == True:\n",
    "            a, b, c = self.ratios_extension(self.extended_peaks_ratios)\n",
    "            if a != None:\n",
    "                self.peaks_ratios_harms = a\n",
    "            if b != None:\n",
    "                self.peaks_ratios_inc = b\n",
    "            if c != None:\n",
    "                self.peaks_ratios_inc_fit = c\n",
    "    '''Generates self.extended_peaks and self.extended_peaks_ratios attributes'''\n",
    "    \n",
    "    def peaks_extension (self, peaks = None, n_harm = None, method = None, harm_function = 'mult', cons_limit = 0.1, \n",
    "                         ratios_extension = False):\n",
    "        if peaks == None:\n",
    "            peaks = self.peaks\n",
    "        if n_harm == None:\n",
    "            n_harm = self.n_harm\n",
    "        if method == None:\n",
    "            method = self.extension_method\n",
    "        if method == 'harmonic_fit':\n",
    "            extended_peaks = harmonic_fit(peaks, self.n_harm, function = harm_function, div_mode = 'div')\n",
    "            self.extended_peaks = np.sort(list(self.peaks)+list(extended_peaks))\n",
    "        if method == 'consonant':\n",
    "            consonance, cons_pairs, cons_peaks, cons_metric = consonance_peaks (peaks, limit = cons_limit)\n",
    "            self.extended_peaks = np.sort(np.round(cons_peaks, 3))\n",
    "        if method == 'multi_consonant':\n",
    "            consonance, cons_pairs, cons_peaks, cons_metric = consonance_peaks (peaks, limit = cons_limit)\n",
    "            self.extended_peaks = np.sort(np.round(multi_consonance(cons_pairs, n_freqs = 10), 3))\n",
    "        if method == 'consonant_harmonic_fit':\n",
    "            extended_peaks = harmonic_fit(peaks, self.n_harm, function = harm_function, div_mode = 'div_add')\n",
    "            consonance, cons_pairs, cons_peaks, cons_metric = consonance_peaks (extended_peaks, limit = cons_limit)\n",
    "            self.extended_peaks = np.sort(np.round(cons_peaks, 3))\n",
    "        if method == 'multi_consonant_harmonic_fit':\n",
    "            extended_peaks = harmonic_fit(peaks, self.n_harm, function = harm_function)\n",
    "            consonance, cons_pairs, cons_peaks, cons_metric = consonance_peaks (extended_peaks, limit = cons_limit)\n",
    "            self.extended_peaks = np.sort(np.round(multi_consonance(cons_pairs, n_freqs = 10), 3))\n",
    "        self.extended_peaks = [i for i in self.extended_peaks if i<self.sf/2]\n",
    "        self.extended_amps = peaks_to_amps(self.extended_peaks, self.freqs, self.psd, self.sf)\n",
    "        self.extended_peaks_ratios = compute_peak_ratios(self.extended_peaks, rebound = True)\n",
    "        if ratios_extension == True:\n",
    "            a, b, c = self.ratios_extension(self.extended_peaks_ratios)\n",
    "            if a != None:\n",
    "                self.extended_peaks_ratios_harms = a\n",
    "            if b != None:\n",
    "                self.extended_peaks_ratios_inc = b\n",
    "            if c != None:\n",
    "                self.extended_peaks_ratios_inc_fit = c\n",
    "    \n",
    "    def ratios_extension (self, ratios, ratio_fit_bounds = 0.001):\n",
    "        if self.ratios_harms == True:\n",
    "            ratios_harms_ = ratios_harmonics(ratios, self.ratios_n_harms)\n",
    "        else: \n",
    "            ratios_harms_ = None\n",
    "        if self.ratios_inc == True:\n",
    "            ratios_inc_ = ratios_increments(ratios, self.ratios_n_harms)\n",
    "        else: \n",
    "            ratios_inc_ = None\n",
    "        if self.ratios_inc_fit == True:\n",
    "            ratios_inc_fit_ = harmonic_fit(ratios, self.ratios_n_harms, function = 'exp', bounds = ratio_fit_bounds)\n",
    "        else: \n",
    "            ratios_inc_fit_ = None\n",
    "        return ratios_harms_, ratios_inc_, ratios_inc_fit_\n",
    "    \n",
    "    def compute_spectromorph (self, IMFs = None, sf = None, method = 'SpectralCentroid', window = None, overlap = 1, comp_chords = False, min_notes = 3, \n",
    "                              cons_limit = 0.2, cons_chord_method = 'cons', graph = False):\n",
    "        if IMFs == None:\n",
    "            try:\n",
    "                IMFs = self.IMFs\n",
    "            except:\n",
    "                IMFs = EMD_eeg(self.data)[1:6]\n",
    "                self.IMFs = IMFs\n",
    "                \n",
    "        if sf == None:\n",
    "            sf = self.sf\n",
    "        if window == None:\n",
    "            window = int(sf/2)\n",
    "            \n",
    "        spectro_EMD = EMD_to_spectromorph(IMFs, 1000, method = method, window = window, overlap = overlap)\n",
    "        self.spectro_EMD = np.round(spectro_EMD, 1)\n",
    "        if method == 'SpectralCentroid':\n",
    "            self.SpectralCentroid = self.spectro_EMD\n",
    "        if method == 'SpectralFlux':\n",
    "            self.SpectralFlux = self.spectro_EMD\n",
    "        if comp_chords == True:\n",
    "            self.spectro_chords, spectro_chord_pos = timepoint_consonance(self.spectro_EMD, method = cons_chord_method, \n",
    "                                                                               limit = cons_limit, min_notes = min_notes)  \n",
    "        if graph == True:\n",
    "            data = np.moveaxis(self.spectro_EMD, 0, 1)\n",
    "            ax = sbn.lineplot(data=data[10:-10, :], dashes = False)\n",
    "            print('2')\n",
    "            ax.set(xlabel='Time Windows', ylabel=method)\n",
    "            ax.set_yscale('log')\n",
    "            plt.legend(scatterpoints=1, frameon=True, labelspacing=1, title='EMDs', loc = 'best')\n",
    "            labels = ['EMD1', 'EMD2', 'EMD3', 'EMD4', 'EMD5', 'EMD6']\n",
    "            for xc in spectro_chord_pos:\n",
    "                plt.axvline(x=xc, c='black', linestyle = 'dotted')\n",
    "            plt.show()\n",
    "            \n",
    "    def compute_peaks_metrics (self, n_harm = None):\n",
    "        if n_harm == None:\n",
    "            n_harm = self.n_harm\n",
    "            \n",
    "        peaks = list(self.peaks)\n",
    "        metrics = {'cons' : 0, 'euler' : 0, 'tenney': 0, 'harm_fit': 0}   \n",
    "        metrics['harm_fit'] = len(harmonic_fit(peaks, n_harm = n_harm))\n",
    "        a, b, c, metrics['cons'] = consonance_peaks (peaks, 0.1)\n",
    "        peaks_euler = [int(round(num, 2)*1000) for num in peaks]\n",
    "        metrics['euler'] = euler(*peaks_euler)\n",
    "        metrics['tenney'] = tenneyHeight(peaks)\n",
    "        metrics_list = []\n",
    "        for value in metrics.values():\n",
    "            metrics_list.append(value)\n",
    "        self.peaks_metrics_list = metrics_list\n",
    "        self.peaks_metrics = metrics\n",
    "\n",
    "    '''Methods to compute scales from whether peaks or extended peaks'''\n",
    "    \n",
    "    def compute_diss_curve (self, input_type = 'peaks', denom=1000, max_ratio=2, consonance = True, method = 'min', plot = False, n_tet_grid = 12):\n",
    "        if input_type == 'peaks':\n",
    "            peaks = self.peaks\n",
    "            amps = self.amps\n",
    "        if input_type == 'extended_peaks':\n",
    "            peaks = self.extended_peaks\n",
    "            amps = self.extended_amps\n",
    "\n",
    "        peaks = [p*128 for p in peaks]\n",
    "        amps = np.interp(amps, (np.array(amps).min(), np.array(amps).max()), (0.2, 0.8))\n",
    "        \n",
    "        intervals, self.diss_scale, euler_diss, diss, harm_sim_diss = diss_curve (peaks, amps, denom=denom, max_ratio=max_ratio, consonance = consonance, method = method, plot = plot, n_tet_grid = n_tet_grid)\n",
    "        self.scale_metrics['diss_euler'] = euler_diss\n",
    "        self.scale_metrics['dissonance'] = diss\n",
    "        self.scale_metrics['diss_harm_sim'] = np.average(harm_sim_diss)\n",
    "        self.scale_metrics['diss_n_steps'] = len(self.diss_scale)\n",
    "        \n",
    "    def compute_harmonic_entropy(self, input_type = 'peaks', res = 0.001, spread = 0.01, plot_entropy = True, plot_tenney = False, octave = 2, rebound = True, sub = False):\n",
    "        if input_type == 'peaks':\n",
    "            ratios = compute_peak_ratios(self.peaks, rebound = False, sub = False)\n",
    "        if input_type == 'extended_peaks':\n",
    "            ratios = compute_peak_ratios(self.extended_peaks, rebound = rebound, sub = sub)\n",
    "        if input_type == 'extended_peaks_harms':\n",
    "            ratios = self.extended_peaks_ratios_harms\n",
    "        if input_type == 'extended_peaks_inc':\n",
    "            ratios = self.extended_peaks_ratios_inc\n",
    "        if input_type == 'extended_peaks_inc_fit':\n",
    "            ratios = self.extended_peaks_ratios_inc_fit\n",
    "            \n",
    "        HE_scale, HE = harmonic_entropy(ratios, res = res, spread = spread, plot_entropy = plot_entropy, plot_tenney = plot_tenney, octave = octave)\n",
    "        self.HE_scale = HE_scale[0]\n",
    "        self.scale_metrics['HE'] = HE\n",
    "        self.scale_metrics['HE_n_steps'] = len(self.HE_scale)  \n",
    "        self.scale_metrics['HE_harm_sim'] = np.average(ratios2harmsim(list(biotuning.HE_scale)))\n",
    "        '''\n",
    "        ratios_euler = [a]+ratios\n",
    "        ratios_euler = [int(round(num, 2)*1000) for num in ratios]\n",
    "        euler_score = None\n",
    "        if consonance == True:\n",
    "            euler_score = euler(*ratios_euler)\n",
    "            euler_score = euler_score/len(diss_minima)\n",
    "        '''\n",
    "    \n",
    "    \n",
    "    \n",
    "    \n",
    "    '''Methods called by the peaks_extraction method'''\n",
    "    \n",
    "    def compute_peak(self, eeg_data, sf=1000, nperseg = 0, nfft = 0, precision = 0.25, average = 'median'):\n",
    "        if nperseg == 0:\n",
    "            mult = 1/precision\n",
    "            nperseg = sf*mult\n",
    "            nfft = nperseg\n",
    "        import scipy\n",
    "        freqs, psd = scipy.signal.welch(eeg_data, sf, nfft = nfft, nperseg = nperseg, average = average)\n",
    "        self.freqs = freqs\n",
    "        self.psd = psd\n",
    "        psd = 10. * np.log10(psd) \n",
    "        bin_size = (sf/2)/len(freqs)\n",
    "        #min_index = int(minf/bin_size)\n",
    "        #max_index = int(maxf/bin_size)\n",
    "        index_max = np.argmax(np.array(psd))\n",
    "        FREQS = np.array(freqs[index_max])\n",
    "        amps = np.array(psd[index_max])\n",
    "\n",
    "        return FREQS, amps\n",
    "    \n",
    "    def compute_peaks_raw(self, eeg_data, FREQ_BANDS, sf=1000, nperseg = 0, nfft = 0, precision=0.25, average = 'median'):\n",
    "        if nperseg == 0:\n",
    "            mult = 1/precision\n",
    "            nperseg = sf*mult\n",
    "            nfft = nperseg\n",
    "        import scipy\n",
    "        psd_all = []\n",
    "        freqs_all = []\n",
    "        FREQs_temp= []\n",
    "        amp_temp = []\n",
    "\n",
    "        for minf, maxf in FREQ_BANDS:\n",
    "            freqs, psd = scipy.signal.welch(eeg_data, sf, nfft = nfft, nperseg = nperseg, average = average)\n",
    "            self.freqs = freqs\n",
    "            psd = 10. * np.log10(psd)\n",
    "            self.psd = psd\n",
    "            bin_size = (sf/2)/len(freqs)\n",
    "            self.bin_size = bin_size\n",
    "            min_index = int(minf/bin_size)\n",
    "            max_index = int(maxf/bin_size)\n",
    "            index_max = np.argmax(np.array(psd[min_index:max_index]))\n",
    "             #   print(index_max) # Should not be zero in all bands (would signify strong 1/f trend)\n",
    "            FREQs_temp.append(freqs[min_index+index_max])\n",
    "            amp_temp.append(psd[min_index+index_max])\n",
    "\n",
    "        FREQS = np.array(FREQs_temp)\n",
    "        amps = np.array(amp_temp)\n",
    "        return FREQS, amps\n",
    "    \n",
    "    def compute_peaks_ts (self, data, peaks_function = 'EMD', FREQ_BANDS = None, precision = 0.25, sf = 1000, max_freq = 80):\n",
    "        alphaband = [[7, 12]]\n",
    "        try:\n",
    "            if FREQ_BANDS == None:\n",
    "                FREQ_BANDS = [[2, 3.55], [3.55, 7.15], [7.15, 14.3], [14.3, 28.55], [28.55, 49.4]]\n",
    "        except:\n",
    "            pass\n",
    "        if peaks_function == 'EEMD':\n",
    "            IMFs = EMD_eeg(data)[1:6]\n",
    "            self.IMFs = IMFs\n",
    "        if peaks_function == 'EMD':\n",
    "            data = np.interp(data, (data.min(), data.max()), (0, +1))\n",
    "            IMFs = emd.sift.sift(data)\n",
    "            #IMFs = emd.sift.ensemble_sift(data)\n",
    "            IMFs = np.moveaxis(IMFs, 0, 1)[1:6]\n",
    "            self.IMFs = IMFs\n",
    "        try:\n",
    "            peaks_temp = []\n",
    "            amps_temp = []\n",
    "            for imf in range(len(IMFs)):\n",
    "                p, a = self.compute_peak(IMFs[imf], precision = precision, average = 'median')\n",
    "                peaks_temp.append(p)\n",
    "\n",
    "                amps_temp.append(a)\n",
    "\n",
    "            peaks_temp = np.flip(peaks_temp)\n",
    "            amps_temp = np.flip(amps_temp)\n",
    "        except:\n",
    "            pass\n",
    "        if peaks_function == 'HH1D_max':\n",
    "            IMFs = EMD_eeg(data)\n",
    "            IMFs = np.moveaxis(IMFs, 0, 1)\n",
    "            IP, IF, IA = emd.spectra.frequency_transform(IMFs[:, 1:6], sf, 'nht')\n",
    "            precision_hh = precision*2\n",
    "            low = 1\n",
    "            high = max_freq\n",
    "            steps = int((high-low)/precision_hh)\n",
    "            edges, bins = emd.spectra.define_hist_bins(low, high, steps, 'log')\n",
    "            self.IF = np.moveaxis(IF, 0 ,1)\n",
    "            # Compute the 1d Hilbert-Huang transform (power over carrier frequency)\n",
    "            spec = emd.spectra.hilberthuang_1d(IF, IA, edges)\n",
    "            \n",
    "            spec = np.moveaxis(spec, 0, 1)\n",
    "            peaks_temp = []\n",
    "            amps_temp = []\n",
    "            for e, i in enumerate(spec):\n",
    "                max_power = np.argmax(i)\n",
    "                peaks_temp.append(bins[max_power])\n",
    "                amps_temp.append(spec[e][max_power])\n",
    "            peaks_temp = np.flip(peaks_temp)\n",
    "            amps_temp = np.flip(amps_temp)\n",
    "        #if peaks_function == 'HH1D_weightAVG':\n",
    "\n",
    "        if peaks_function == 'adapt':\n",
    "            p, a = self.compute_peaks_raw(data, alphaband, precision = precision, average = 'median')\n",
    "            FREQ_BANDS = alpha2bands(p)\n",
    "            peaks_temp, amps_temp = self.compute_peaks_raw(data, FREQ_BANDS, precision = precision, average = 'median')\n",
    "        if peaks_function == 'fixed':\n",
    "            peaks_temp, amps_temp = self.compute_peaks_raw(data, FREQ_BANDS, precision = precision, average = 'median')\n",
    "        peaks = np.array(peaks_temp)\n",
    "        amps = np.array(amps_temp)\n",
    "        return peaks, amps\n",
    "    \n",
    "    \n",
    "    '''Generic method to fit all Biotuner methods'''\n",
    "    \n",
    "    def fit_all(self, data, compute_diss = True, compute_HE = True, compute_peaks_extension = True):\n",
    "        biotuning = biotuner(self.sf, peaks_function = self.peaks_function, precision = self.precision, n_harm = self.n_harm)\n",
    "        biotuning.peaks_extraction(data)\n",
    "        biotuning.compute_peaks_metrics()\n",
    "        if compute_diss == True:\n",
    "            biotuning.compute_diss_curve(input_type = 'peaks', plot = False)\n",
    "        if compute_peaks_extension == True:\n",
    "            biotuning.peaks_extension(method = 'multi_consonant_harmonic_fit', harm_function = 'mult', cons_limit = 0.01)\n",
    "        if compute_HE == True:\n",
    "            biotuning.compute_harmonic_entropy(input_type = 'extended_peaks', plot_entropy = False)\n",
    "        return biotuning\n",
    "    \n",
    "    def info(self, metrics=False, scales=False, whatever=False):\n",
    "        if metrics == True:\n",
    "            print('METRICS')\n",
    "            print(vars(self))\n",
    "        \n",
    "        else:\n",
    "            print(vars(self))\n",
    "        return"
   ]
  },
  {
   "cell_type": "code",
   "execution_count": null,
   "metadata": {},
   "outputs": [],
   "source": []
  },
  {
   "cell_type": "code",
   "execution_count": null,
   "metadata": {},
   "outputs": [],
   "source": []
  },
  {
   "cell_type": "code",
   "execution_count": 6,
   "metadata": {},
   "outputs": [
    {
     "data": {
      "text/plain": [
       "3001"
      ]
     },
     "execution_count": 6,
     "metadata": {},
     "output_type": "execute_result"
    }
   ],
   "source": [
    "import numpy\n",
    "length = 3000\n",
    "chord = make_chord(150, [1.3, 3.4, 7])\n",
    "\n",
    "chord = np.ascontiguousarray(np.vstack([chord,chord]).T)\n",
    "\n",
    "\n",
    "sound = pygame.sndarray.make_sound(chord)\n",
    "sound.play(loops=0, maxtime=0, fade_ms=0)\n",
    "pygame.time.wait(int(sound.get_length() * length))"
   ]
  },
  {
   "cell_type": "code",
   "execution_count": null,
   "metadata": {},
   "outputs": [],
   "source": []
  },
  {
   "cell_type": "code",
   "execution_count": null,
   "metadata": {},
   "outputs": [],
   "source": []
  },
  {
   "cell_type": "code",
   "execution_count": null,
   "metadata": {},
   "outputs": [],
   "source": []
  },
  {
   "cell_type": "code",
   "execution_count": null,
   "metadata": {},
   "outputs": [],
   "source": [
    "np.argwhere(np.isnan(biotuning.spectro_EMD))"
   ]
  },
  {
   "cell_type": "code",
   "execution_count": null,
   "metadata": {},
   "outputs": [],
   "source": [
    "biotuning.spectro_EMD.shape"
   ]
  },
  {
   "cell_type": "code",
   "execution_count": null,
   "metadata": {},
   "outputs": [],
   "source": [
    "incut = 1\n",
    "outcut = 3\n",
    "biotuning.IMFs[0][incut:outcut]"
   ]
  },
  {
   "cell_type": "code",
   "execution_count": null,
   "metadata": {
    "scrolled": true
   },
   "outputs": [],
   "source": [
    "import time\n",
    "start = time.time()\n",
    "data = epochs_data[15][72][0:6000] # Define data (single time series)\n",
    "biotuning = biotuner(1000, peaks_function = 'EEMD', precision = 0.5, n_harm = 20,\n",
    "                    ratios_n_harms = 5, ratios_inc_fit = True, ratios_inc = True) # Initialize biotuner object\n",
    "biotuning.peaks_extraction(data)\n",
    "biotuning.compute_peaks_metrics()\n",
    "biotuning.peaks_extension(method = 'harmonic_fit', harm_function = 'mult', cons_limit = 0.1, ratios_extension = True)\n",
    "#biotuning.compute_diss_curve(plot = False, input_type = 'peaks', denom = 50, consonance = False, n_tet_grid = 12)\n",
    "biotuning.compute_spectromorph(comp_chords = True, method = 'SpectralCentroid', min_notes = 5, cons_limit = 0.4, cons_chord_method = 'cons', \n",
    "                               window = 500, overlap = 1, graph = True)\n",
    "\n",
    "biotuning.compute_harmonic_entropy(input_type = 'extended_peaks_inc_fit', plot_entropy = True, octave = 1.5, rebound = True)\n",
    "stop = time.time()\n",
    "print(stop-start)"
   ]
  },
  {
   "cell_type": "code",
   "execution_count": null,
   "metadata": {},
   "outputs": [],
   "source": [
    "biotuning.SpectralCentroid.shape"
   ]
  },
  {
   "cell_type": "code",
   "execution_count": null,
   "metadata": {},
   "outputs": [],
   "source": [
    "#IF = np.moveaxis(biotuning.IF, 0 ,1)\n",
    "plt.plot(biotuning.IF[4][10:-10])"
   ]
  },
  {
   "cell_type": "code",
   "execution_count": null,
   "metadata": {},
   "outputs": [],
   "source": [
    "np.var(biotuning.IF[4][10:-10])"
   ]
  },
  {
   "cell_type": "code",
   "execution_count": null,
   "metadata": {
    "scrolled": true
   },
   "outputs": [],
   "source": [
    "a = biotuning.spectro_chords[0]\n",
    "b = biotuning.spectro_chords[1]\n",
    "a\n"
   ]
  },
  {
   "cell_type": "code",
   "execution_count": null,
   "metadata": {},
   "outputs": [],
   "source": [
    "biotuning.spectro_chords"
   ]
  },
  {
   "cell_type": "code",
   "execution_count": null,
   "metadata": {},
   "outputs": [],
   "source": [
    "a = harmonic_fit(biotuning.peaks_ratios, 10, 0.01)\n",
    "a"
   ]
  },
  {
   "cell_type": "code",
   "execution_count": null,
   "metadata": {},
   "outputs": [],
   "source": [
    "biotuning.extended_peaks_ratios_inc"
   ]
  },
  {
   "cell_type": "code",
   "execution_count": null,
   "metadata": {},
   "outputs": [],
   "source": [
    "def ratios_harmonics (ratios, n_harms = 1):\n",
    "    ratios_harms = []\n",
    "    for h in range(n_harms):\n",
    "        h += 1 \n",
    "        ratios_harms.append([i*h for i in ratios])\n",
    "    ratios_harms = [i for sublist in ratios_harms for i in sublist]\n",
    "    return ratios_harms\n",
    "\n",
    "def ratios_increments (ratios, n_inc = 1):\n",
    "    ratios_harms = []\n",
    "    for h in range(n_inc):\n",
    "        h += 1 \n",
    "        ratios_harms.append([i**h for i in ratios])\n",
    "    ratios_harms = [i for sublist in ratios_harms for i in sublist]\n",
    "    ratios_harms = list(set(ratios_harms))\n",
    "    return ratios_harms"
   ]
  },
  {
   "cell_type": "code",
   "execution_count": null,
   "metadata": {},
   "outputs": [],
   "source": []
  },
  {
   "cell_type": "code",
   "execution_count": null,
   "metadata": {},
   "outputs": [],
   "source": []
  },
  {
   "cell_type": "code",
   "execution_count": null,
   "metadata": {},
   "outputs": [],
   "source": []
  },
  {
   "cell_type": "code",
   "execution_count": null,
   "metadata": {},
   "outputs": [],
   "source": []
  },
  {
   "cell_type": "code",
   "execution_count": null,
   "metadata": {},
   "outputs": [],
   "source": [
    "def harmonic_entropy (ratios, res = 0.001, spread = 0.01, plot_entropy = True, plot_tenney = False, octave = 2):\n",
    "    fracs, numerators, denominators = scale2frac(ratios)\n",
    "    ratios = numerators / denominators\n",
    "    #print(ratios)\n",
    "    #ratios = np.interp(ratios, (ratios.min(), ratios.max()), (1, 10))\n",
    "    bendetti_heights = numerators * denominators\n",
    "    tenney_heights = log2(bendetti_heights)\n",
    "\n",
    "    ind = np.argsort(tenney_heights)  # first, sort by Tenney height to make things more efficient\n",
    "    bendetti_heights = bendetti_heights[ind]\n",
    "    tenney_heights = tenney_heights[ind]\n",
    "    numerators = numerators[ind]\n",
    "    denominators = denominators[ind]\n",
    "    #ratios = ratios[ind]\n",
    "    if plot_tenney == True:\n",
    "        fig = plt.figure(figsize=(10, 4), dpi=150)\n",
    "        ax = fig.add_subplot(111)\n",
    "        # ax.scatter(ratios, 2**tenney_heights, s=1)\n",
    "        ax.scatter(ratios, tenney_heights, s=1, alpha=.2)\n",
    "        # ax.scatter(ratios[:200], tenney_heights[:200], s=1, color='r')\n",
    "        plt.show()\n",
    "    \n",
    "    # Next, we need to ensure a distance `d` between adjacent ratios\n",
    "    M = len(bendetti_heights)\n",
    "    #print(M)\n",
    "\n",
    "    delta = 0.00001\n",
    "    indices = ones(M, dtype=bool)\n",
    "\n",
    "    for i in range(M - 2):\n",
    "        ind = abs(ratios[i + 1:] - ratios[i]) > delta\n",
    "        indices[i + 1:] = indices[i + 1:] * ind\n",
    "\n",
    "    bendetti_heights = bendetti_heights[indices]\n",
    "    tenney_heights = tenney_heights[indices]\n",
    "    numerators = numerators[indices]\n",
    "    denominators = denominators[indices]\n",
    "    ratios = ratios[indices]\n",
    "    M = len(tenney_heights)\n",
    "    #print(M)\n",
    "    #print('hello')\n",
    "    x_ratios = arange(1, octave, res)\n",
    "    _, HE = compute_harmonic_entropy_domain_integral(ratios, x_ratios, spread=spread)\n",
    "    #_, HE = compute_harmonic_entropy_simple_weights(numerators, denominators, x_ratios, spread=0.01)\n",
    "    ind = argrelextrema(HE, numpy.less)\n",
    "    HE_minima = (x_ratios[ind], HE[ind])\n",
    "    if plot_entropy == True:  \n",
    "        fig = plt.figure(figsize=(10, 4), dpi=150)\n",
    "        ax = fig.add_subplot(111)\n",
    "        # ax.plot(weight_ratios, log2(pdf))\n",
    "        ax.plot(x_ratios, HE)\n",
    "        # ax.plot(x_ratios, HE_simple)\n",
    "        ax.scatter(HE_minima[0], HE_minima[1], color='k', s=4)\n",
    "        ax.set_xlim(1, octave)\n",
    "        plt.show()\n",
    "    return HE_minima, np.average(HE)"
   ]
  },
  {
   "cell_type": "code",
   "execution_count": null,
   "metadata": {},
   "outputs": [],
   "source": [
    "def spectro_chord_progression (spectro_chords):\n",
    "    for i in spectro_chords:\n",
    "        i = [int(j*100) for j in i]\n",
    "        print(euler(*i))"
   ]
  },
  {
   "cell_type": "code",
   "execution_count": null,
   "metadata": {},
   "outputs": [],
   "source": [
    "plt.plot(biotuning.SpectralFlux[0][1000:2000])\n",
    "plt.plot(biotuning.SpectralFlux[1][1000:2000])\n",
    "plt.plot(biotuning.SpectralFlux[2][1000:2000])"
   ]
  },
  {
   "cell_type": "code",
   "execution_count": null,
   "metadata": {},
   "outputs": [],
   "source": []
  },
  {
   "cell_type": "code",
   "execution_count": null,
   "metadata": {},
   "outputs": [],
   "source": []
  },
  {
   "cell_type": "code",
   "execution_count": null,
   "metadata": {},
   "outputs": [],
   "source": [
    "data = biotuning.SpectralCentroid\n",
    "#data = np.moveaxis(data, 0, 1)\n",
    "cons_peaks = timepoint_consonance(data)"
   ]
  },
  {
   "cell_type": "code",
   "execution_count": null,
   "metadata": {},
   "outputs": [],
   "source": [
    "cons_peaks"
   ]
  },
  {
   "cell_type": "code",
   "execution_count": null,
   "metadata": {},
   "outputs": [],
   "source": [
    "harms = [10,50]\n",
    "data = epochs_data[47][28] # Define data (single time series)\n",
    "for i in harms:\n",
    "    biotuning = biotuner(1000, peaks_function = 'EEMD', precision = 0.1, n_harm = i)\n",
    "    biotuning.peaks_extraction(data)\n",
    "    biotuning.peaks_extension(method = 'consonant_harmonic_fit', harm_function = 'mult', cons_limit = 0.1)\n",
    "    biotuning.compute_harmonic_entropy(input_type = 'extended_peaks', plot_entropy = True)"
   ]
  },
  {
   "cell_type": "code",
   "execution_count": null,
   "metadata": {},
   "outputs": [],
   "source": [
    "biotuning.extended_peaks"
   ]
  },
  {
   "cell_type": "code",
   "execution_count": null,
   "metadata": {},
   "outputs": [],
   "source": [
    "a, b, c = oct_subdiv(3/2,0.01367,2,10)\n",
    "m = compare_oct_div(Octdiv = 53, Octdiv2 = 12, bounds = 0.003, octave = 2)\n",
    "m"
   ]
  },
  {
   "cell_type": "code",
   "execution_count": null,
   "metadata": {},
   "outputs": [],
   "source": [
    "#a, b = multi_oct_subdiv (biotuning.peaks, 200, 0.01)\n",
    "a"
   ]
  },
  {
   "cell_type": "code",
   "execution_count": null,
   "metadata": {},
   "outputs": [],
   "source": [
    "def multi_oct_subdiv (peaks, max_sub, octave_limit, octave = 2, n_scales = 10):\n",
    "    import itertools\n",
    "    from collections import Counter\n",
    "    a, b, pairs, cons = consonance_peaks(peaks, 0.01)\n",
    "    ratios, cons = consonant_ratios(peaks, 0.01)\n",
    "    print(ratios)\n",
    "    list_oct_div = []\n",
    "    for i in range(len(ratios)):\n",
    "        list_temp, no= oct_subdiv(ratios[i], octave_limit, octave, n_scales)\n",
    "        print(list_temp)\n",
    "        list_oct_div.append(list_temp)\n",
    "\n",
    "\n",
    "    counts = Counter(list(itertools.chain(*list_oct_div)))\n",
    "    oct_div_temp = []\n",
    "    for k, v in counts.items():\n",
    "        if v > 1:\n",
    "            oct_div_temp.append(k)\n",
    "    oct_div_temp = np.sort(oct_div_temp)\n",
    "    oct_div_final = []\n",
    "    for i in range(len(oct_div_temp)):\n",
    "        if oct_div_temp[i] < max_sub:\n",
    "            oct_div_final.append(oct_div_temp[i])\n",
    "    return oct_div_final, ratios"
   ]
  },
  {
   "cell_type": "code",
   "execution_count": null,
   "metadata": {},
   "outputs": [],
   "source": [
    "biotuning.HE_scale"
   ]
  },
  {
   "cell_type": "code",
   "execution_count": null,
   "metadata": {},
   "outputs": [],
   "source": [
    "biotuning = biotuner(1000, peaks_function = 'adapt', precision = 0.1, n_harm = 30)\n",
    "biotuning = biotuning.fit_all(data)\n",
    "biotuning.peaks_ratios"
   ]
  },
  {
   "cell_type": "code",
   "execution_count": null,
   "metadata": {},
   "outputs": [],
   "source": [
    "vars(biotuning)\n",
    "#biotuning.HE_scale"
   ]
  },
  {
   "cell_type": "code",
   "execution_count": null,
   "metadata": {},
   "outputs": [],
   "source": []
  }
 ],
 "metadata": {
  "kernelspec": {
   "display_name": "Python 3",
   "language": "python",
   "name": "python3"
  },
  "language_info": {
   "codemirror_mode": {
    "name": "ipython",
    "version": 3
   },
   "file_extension": ".py",
   "mimetype": "text/x-python",
   "name": "python",
   "nbconvert_exporter": "python",
   "pygments_lexer": "ipython3",
   "version": "3.8.5"
  }
 },
 "nbformat": 4,
 "nbformat_minor": 2
}
