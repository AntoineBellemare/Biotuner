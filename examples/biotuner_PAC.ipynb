{
 "cells": [
  {
   "cell_type": "code",
   "execution_count": 24,
   "metadata": {},
   "outputs": [],
   "source": [
    "import numpy as np\n",
    "import biotuner\n",
    "from biotuner.biotuner_utils import *\n",
    "from biotuner.biotuner_functions import *\n",
    "from biotuner.biotuner_object import *\n",
    "import mne"
   ]
  },
  {
   "cell_type": "markdown",
   "metadata": {},
   "source": [
    "## Load dataset"
   ]
  },
  {
   "cell_type": "code",
   "execution_count": 4,
   "metadata": {},
   "outputs": [
    {
     "name": "stdout",
     "output_type": "stream",
     "text": [
      "Reading C:/Users/Dell/GitHub/CoCoBrainChannel/pareidolia_run2.fif ...\n"
     ]
    },
    {
     "name": "stderr",
     "output_type": "stream",
     "text": [
      "<ipython-input-4-450bd368b88c>:3: RuntimeWarning: This filename (C:/Users/Dell/GitHub/CoCoBrainChannel/pareidolia_run2.fif) does not conform to MNE naming conventions. All epochs files should end with -epo.fif, -epo.fif.gz, _epo.fif or _epo.fif.gz\n",
      "  epochs = mne.read_epochs(path+'pareidolia_run2.fif')\n"
     ]
    },
    {
     "name": "stdout",
     "output_type": "stream",
     "text": [
      "    Found the data of interest:\n",
      "        t =   -1500.00 ...    8000.00 ms\n",
      "        0 CTF compensation matrices available\n"
     ]
    },
    {
     "name": "stderr",
     "output_type": "stream",
     "text": [
      "C:\\Users\\Dell\\Anaconda3\\lib\\site-packages\\mne\\io\\tag.py:427: DeprecationWarning: tostring() is deprecated. Use tobytes() instead.\n",
      "  ch_name = ch_name[:np.argmax(ch_name == b'')].tostring()\n",
      "C:\\Users\\Dell\\Anaconda3\\lib\\site-packages\\mne\\io\\tag.py:427: DeprecationWarning: tostring() is deprecated. Use tobytes() instead.\n",
      "  ch_name = ch_name[:np.argmax(ch_name == b'')].tostring()\n",
      "C:\\Users\\Dell\\Anaconda3\\lib\\site-packages\\mne\\io\\tag.py:427: DeprecationWarning: tostring() is deprecated. Use tobytes() instead.\n",
      "  ch_name = ch_name[:np.argmax(ch_name == b'')].tostring()\n",
      "C:\\Users\\Dell\\Anaconda3\\lib\\site-packages\\mne\\io\\tag.py:427: DeprecationWarning: tostring() is deprecated. Use tobytes() instead.\n",
      "  ch_name = ch_name[:np.argmax(ch_name == b'')].tostring()\n",
      "C:\\Users\\Dell\\Anaconda3\\lib\\site-packages\\mne\\io\\tag.py:427: DeprecationWarning: tostring() is deprecated. Use tobytes() instead.\n",
      "  ch_name = ch_name[:np.argmax(ch_name == b'')].tostring()\n",
      "C:\\Users\\Dell\\Anaconda3\\lib\\site-packages\\mne\\io\\tag.py:427: DeprecationWarning: tostring() is deprecated. Use tobytes() instead.\n",
      "  ch_name = ch_name[:np.argmax(ch_name == b'')].tostring()\n",
      "C:\\Users\\Dell\\Anaconda3\\lib\\site-packages\\mne\\io\\tag.py:427: DeprecationWarning: tostring() is deprecated. Use tobytes() instead.\n",
      "  ch_name = ch_name[:np.argmax(ch_name == b'')].tostring()\n",
      "C:\\Users\\Dell\\Anaconda3\\lib\\site-packages\\mne\\io\\tag.py:427: DeprecationWarning: tostring() is deprecated. Use tobytes() instead.\n",
      "  ch_name = ch_name[:np.argmax(ch_name == b'')].tostring()\n",
      "C:\\Users\\Dell\\Anaconda3\\lib\\site-packages\\mne\\io\\tag.py:427: DeprecationWarning: tostring() is deprecated. Use tobytes() instead.\n",
      "  ch_name = ch_name[:np.argmax(ch_name == b'')].tostring()\n",
      "C:\\Users\\Dell\\Anaconda3\\lib\\site-packages\\mne\\io\\tag.py:427: DeprecationWarning: tostring() is deprecated. Use tobytes() instead.\n",
      "  ch_name = ch_name[:np.argmax(ch_name == b'')].tostring()\n",
      "C:\\Users\\Dell\\Anaconda3\\lib\\site-packages\\mne\\io\\tag.py:427: DeprecationWarning: tostring() is deprecated. Use tobytes() instead.\n",
      "  ch_name = ch_name[:np.argmax(ch_name == b'')].tostring()\n",
      "C:\\Users\\Dell\\Anaconda3\\lib\\site-packages\\mne\\io\\tag.py:427: DeprecationWarning: tostring() is deprecated. Use tobytes() instead.\n",
      "  ch_name = ch_name[:np.argmax(ch_name == b'')].tostring()\n",
      "C:\\Users\\Dell\\Anaconda3\\lib\\site-packages\\mne\\io\\tag.py:427: DeprecationWarning: tostring() is deprecated. Use tobytes() instead.\n",
      "  ch_name = ch_name[:np.argmax(ch_name == b'')].tostring()\n",
      "C:\\Users\\Dell\\Anaconda3\\lib\\site-packages\\mne\\io\\tag.py:427: DeprecationWarning: tostring() is deprecated. Use tobytes() instead.\n",
      "  ch_name = ch_name[:np.argmax(ch_name == b'')].tostring()\n",
      "C:\\Users\\Dell\\Anaconda3\\lib\\site-packages\\mne\\io\\tag.py:427: DeprecationWarning: tostring() is deprecated. Use tobytes() instead.\n",
      "  ch_name = ch_name[:np.argmax(ch_name == b'')].tostring()\n",
      "C:\\Users\\Dell\\Anaconda3\\lib\\site-packages\\mne\\io\\tag.py:427: DeprecationWarning: tostring() is deprecated. Use tobytes() instead.\n",
      "  ch_name = ch_name[:np.argmax(ch_name == b'')].tostring()\n",
      "C:\\Users\\Dell\\Anaconda3\\lib\\site-packages\\mne\\io\\tag.py:427: DeprecationWarning: tostring() is deprecated. Use tobytes() instead.\n",
      "  ch_name = ch_name[:np.argmax(ch_name == b'')].tostring()\n",
      "C:\\Users\\Dell\\Anaconda3\\lib\\site-packages\\mne\\io\\tag.py:427: DeprecationWarning: tostring() is deprecated. Use tobytes() instead.\n",
      "  ch_name = ch_name[:np.argmax(ch_name == b'')].tostring()\n",
      "C:\\Users\\Dell\\Anaconda3\\lib\\site-packages\\mne\\io\\tag.py:427: DeprecationWarning: tostring() is deprecated. Use tobytes() instead.\n",
      "  ch_name = ch_name[:np.argmax(ch_name == b'')].tostring()\n",
      "C:\\Users\\Dell\\Anaconda3\\lib\\site-packages\\mne\\io\\tag.py:427: DeprecationWarning: tostring() is deprecated. Use tobytes() instead.\n",
      "  ch_name = ch_name[:np.argmax(ch_name == b'')].tostring()\n",
      "C:\\Users\\Dell\\Anaconda3\\lib\\site-packages\\mne\\io\\tag.py:427: DeprecationWarning: tostring() is deprecated. Use tobytes() instead.\n",
      "  ch_name = ch_name[:np.argmax(ch_name == b'')].tostring()\n",
      "C:\\Users\\Dell\\Anaconda3\\lib\\site-packages\\mne\\io\\tag.py:427: DeprecationWarning: tostring() is deprecated. Use tobytes() instead.\n",
      "  ch_name = ch_name[:np.argmax(ch_name == b'')].tostring()\n",
      "C:\\Users\\Dell\\Anaconda3\\lib\\site-packages\\mne\\io\\tag.py:427: DeprecationWarning: tostring() is deprecated. Use tobytes() instead.\n",
      "  ch_name = ch_name[:np.argmax(ch_name == b'')].tostring()\n",
      "C:\\Users\\Dell\\Anaconda3\\lib\\site-packages\\mne\\io\\tag.py:427: DeprecationWarning: tostring() is deprecated. Use tobytes() instead.\n",
      "  ch_name = ch_name[:np.argmax(ch_name == b'')].tostring()\n",
      "C:\\Users\\Dell\\Anaconda3\\lib\\site-packages\\mne\\io\\tag.py:427: DeprecationWarning: tostring() is deprecated. Use tobytes() instead.\n",
      "  ch_name = ch_name[:np.argmax(ch_name == b'')].tostring()\n",
      "C:\\Users\\Dell\\Anaconda3\\lib\\site-packages\\mne\\io\\tag.py:427: DeprecationWarning: tostring() is deprecated. Use tobytes() instead.\n",
      "  ch_name = ch_name[:np.argmax(ch_name == b'')].tostring()\n",
      "C:\\Users\\Dell\\Anaconda3\\lib\\site-packages\\mne\\io\\tag.py:427: DeprecationWarning: tostring() is deprecated. Use tobytes() instead.\n",
      "  ch_name = ch_name[:np.argmax(ch_name == b'')].tostring()\n",
      "C:\\Users\\Dell\\Anaconda3\\lib\\site-packages\\mne\\io\\tag.py:427: DeprecationWarning: tostring() is deprecated. Use tobytes() instead.\n",
      "  ch_name = ch_name[:np.argmax(ch_name == b'')].tostring()\n",
      "C:\\Users\\Dell\\Anaconda3\\lib\\site-packages\\mne\\io\\tag.py:427: DeprecationWarning: tostring() is deprecated. Use tobytes() instead.\n",
      "  ch_name = ch_name[:np.argmax(ch_name == b'')].tostring()\n",
      "C:\\Users\\Dell\\Anaconda3\\lib\\site-packages\\mne\\io\\tag.py:427: DeprecationWarning: tostring() is deprecated. Use tobytes() instead.\n",
      "  ch_name = ch_name[:np.argmax(ch_name == b'')].tostring()\n",
      "C:\\Users\\Dell\\Anaconda3\\lib\\site-packages\\mne\\io\\tag.py:427: DeprecationWarning: tostring() is deprecated. Use tobytes() instead.\n",
      "  ch_name = ch_name[:np.argmax(ch_name == b'')].tostring()\n",
      "C:\\Users\\Dell\\Anaconda3\\lib\\site-packages\\mne\\io\\tag.py:427: DeprecationWarning: tostring() is deprecated. Use tobytes() instead.\n",
      "  ch_name = ch_name[:np.argmax(ch_name == b'')].tostring()\n",
      "C:\\Users\\Dell\\Anaconda3\\lib\\site-packages\\mne\\io\\tag.py:427: DeprecationWarning: tostring() is deprecated. Use tobytes() instead.\n",
      "  ch_name = ch_name[:np.argmax(ch_name == b'')].tostring()\n",
      "C:\\Users\\Dell\\Anaconda3\\lib\\site-packages\\mne\\io\\tag.py:427: DeprecationWarning: tostring() is deprecated. Use tobytes() instead.\n",
      "  ch_name = ch_name[:np.argmax(ch_name == b'')].tostring()\n",
      "C:\\Users\\Dell\\Anaconda3\\lib\\site-packages\\mne\\io\\tag.py:427: DeprecationWarning: tostring() is deprecated. Use tobytes() instead.\n",
      "  ch_name = ch_name[:np.argmax(ch_name == b'')].tostring()\n",
      "C:\\Users\\Dell\\Anaconda3\\lib\\site-packages\\mne\\io\\tag.py:427: DeprecationWarning: tostring() is deprecated. Use tobytes() instead.\n",
      "  ch_name = ch_name[:np.argmax(ch_name == b'')].tostring()\n",
      "C:\\Users\\Dell\\Anaconda3\\lib\\site-packages\\mne\\io\\tag.py:427: DeprecationWarning: tostring() is deprecated. Use tobytes() instead.\n",
      "  ch_name = ch_name[:np.argmax(ch_name == b'')].tostring()\n",
      "C:\\Users\\Dell\\Anaconda3\\lib\\site-packages\\mne\\io\\tag.py:427: DeprecationWarning: tostring() is deprecated. Use tobytes() instead.\n",
      "  ch_name = ch_name[:np.argmax(ch_name == b'')].tostring()\n",
      "C:\\Users\\Dell\\Anaconda3\\lib\\site-packages\\mne\\io\\tag.py:427: DeprecationWarning: tostring() is deprecated. Use tobytes() instead.\n",
      "  ch_name = ch_name[:np.argmax(ch_name == b'')].tostring()\n",
      "C:\\Users\\Dell\\Anaconda3\\lib\\site-packages\\mne\\io\\tag.py:427: DeprecationWarning: tostring() is deprecated. Use tobytes() instead.\n",
      "  ch_name = ch_name[:np.argmax(ch_name == b'')].tostring()\n",
      "C:\\Users\\Dell\\Anaconda3\\lib\\site-packages\\mne\\io\\tag.py:427: DeprecationWarning: tostring() is deprecated. Use tobytes() instead.\n",
      "  ch_name = ch_name[:np.argmax(ch_name == b'')].tostring()\n",
      "C:\\Users\\Dell\\Anaconda3\\lib\\site-packages\\mne\\io\\tag.py:427: DeprecationWarning: tostring() is deprecated. Use tobytes() instead.\n",
      "  ch_name = ch_name[:np.argmax(ch_name == b'')].tostring()\n",
      "C:\\Users\\Dell\\Anaconda3\\lib\\site-packages\\mne\\io\\tag.py:427: DeprecationWarning: tostring() is deprecated. Use tobytes() instead.\n",
      "  ch_name = ch_name[:np.argmax(ch_name == b'')].tostring()\n",
      "C:\\Users\\Dell\\Anaconda3\\lib\\site-packages\\mne\\io\\tag.py:427: DeprecationWarning: tostring() is deprecated. Use tobytes() instead.\n",
      "  ch_name = ch_name[:np.argmax(ch_name == b'')].tostring()\n",
      "C:\\Users\\Dell\\Anaconda3\\lib\\site-packages\\mne\\io\\tag.py:427: DeprecationWarning: tostring() is deprecated. Use tobytes() instead.\n",
      "  ch_name = ch_name[:np.argmax(ch_name == b'')].tostring()\n",
      "C:\\Users\\Dell\\Anaconda3\\lib\\site-packages\\mne\\io\\tag.py:427: DeprecationWarning: tostring() is deprecated. Use tobytes() instead.\n",
      "  ch_name = ch_name[:np.argmax(ch_name == b'')].tostring()\n",
      "C:\\Users\\Dell\\Anaconda3\\lib\\site-packages\\mne\\io\\tag.py:427: DeprecationWarning: tostring() is deprecated. Use tobytes() instead.\n",
      "  ch_name = ch_name[:np.argmax(ch_name == b'')].tostring()\n",
      "C:\\Users\\Dell\\Anaconda3\\lib\\site-packages\\mne\\io\\tag.py:427: DeprecationWarning: tostring() is deprecated. Use tobytes() instead.\n",
      "  ch_name = ch_name[:np.argmax(ch_name == b'')].tostring()\n",
      "C:\\Users\\Dell\\Anaconda3\\lib\\site-packages\\mne\\io\\tag.py:427: DeprecationWarning: tostring() is deprecated. Use tobytes() instead.\n",
      "  ch_name = ch_name[:np.argmax(ch_name == b'')].tostring()\n",
      "C:\\Users\\Dell\\Anaconda3\\lib\\site-packages\\mne\\io\\tag.py:427: DeprecationWarning: tostring() is deprecated. Use tobytes() instead.\n",
      "  ch_name = ch_name[:np.argmax(ch_name == b'')].tostring()\n",
      "C:\\Users\\Dell\\Anaconda3\\lib\\site-packages\\mne\\io\\tag.py:427: DeprecationWarning: tostring() is deprecated. Use tobytes() instead.\n",
      "  ch_name = ch_name[:np.argmax(ch_name == b'')].tostring()\n",
      "C:\\Users\\Dell\\Anaconda3\\lib\\site-packages\\mne\\io\\tag.py:427: DeprecationWarning: tostring() is deprecated. Use tobytes() instead.\n",
      "  ch_name = ch_name[:np.argmax(ch_name == b'')].tostring()\n",
      "C:\\Users\\Dell\\Anaconda3\\lib\\site-packages\\mne\\io\\tag.py:427: DeprecationWarning: tostring() is deprecated. Use tobytes() instead.\n",
      "  ch_name = ch_name[:np.argmax(ch_name == b'')].tostring()\n",
      "C:\\Users\\Dell\\Anaconda3\\lib\\site-packages\\mne\\io\\tag.py:427: DeprecationWarning: tostring() is deprecated. Use tobytes() instead.\n",
      "  ch_name = ch_name[:np.argmax(ch_name == b'')].tostring()\n",
      "C:\\Users\\Dell\\Anaconda3\\lib\\site-packages\\mne\\io\\tag.py:427: DeprecationWarning: tostring() is deprecated. Use tobytes() instead.\n",
      "  ch_name = ch_name[:np.argmax(ch_name == b'')].tostring()\n",
      "C:\\Users\\Dell\\Anaconda3\\lib\\site-packages\\mne\\io\\tag.py:427: DeprecationWarning: tostring() is deprecated. Use tobytes() instead.\n",
      "  ch_name = ch_name[:np.argmax(ch_name == b'')].tostring()\n",
      "C:\\Users\\Dell\\Anaconda3\\lib\\site-packages\\mne\\io\\tag.py:427: DeprecationWarning: tostring() is deprecated. Use tobytes() instead.\n",
      "  ch_name = ch_name[:np.argmax(ch_name == b'')].tostring()\n",
      "C:\\Users\\Dell\\Anaconda3\\lib\\site-packages\\mne\\io\\tag.py:427: DeprecationWarning: tostring() is deprecated. Use tobytes() instead.\n",
      "  ch_name = ch_name[:np.argmax(ch_name == b'')].tostring()\n",
      "C:\\Users\\Dell\\Anaconda3\\lib\\site-packages\\mne\\io\\tag.py:427: DeprecationWarning: tostring() is deprecated. Use tobytes() instead.\n",
      "  ch_name = ch_name[:np.argmax(ch_name == b'')].tostring()\n",
      "C:\\Users\\Dell\\Anaconda3\\lib\\site-packages\\mne\\io\\tag.py:427: DeprecationWarning: tostring() is deprecated. Use tobytes() instead.\n",
      "  ch_name = ch_name[:np.argmax(ch_name == b'')].tostring()\n",
      "C:\\Users\\Dell\\Anaconda3\\lib\\site-packages\\mne\\io\\tag.py:427: DeprecationWarning: tostring() is deprecated. Use tobytes() instead.\n",
      "  ch_name = ch_name[:np.argmax(ch_name == b'')].tostring()\n",
      "C:\\Users\\Dell\\Anaconda3\\lib\\site-packages\\mne\\io\\tag.py:427: DeprecationWarning: tostring() is deprecated. Use tobytes() instead.\n",
      "  ch_name = ch_name[:np.argmax(ch_name == b'')].tostring()\n",
      "C:\\Users\\Dell\\Anaconda3\\lib\\site-packages\\mne\\io\\tag.py:427: DeprecationWarning: tostring() is deprecated. Use tobytes() instead.\n",
      "  ch_name = ch_name[:np.argmax(ch_name == b'')].tostring()\n",
      "C:\\Users\\Dell\\Anaconda3\\lib\\site-packages\\mne\\io\\tag.py:427: DeprecationWarning: tostring() is deprecated. Use tobytes() instead.\n",
      "  ch_name = ch_name[:np.argmax(ch_name == b'')].tostring()\n",
      "C:\\Users\\Dell\\Anaconda3\\lib\\site-packages\\mne\\io\\tag.py:427: DeprecationWarning: tostring() is deprecated. Use tobytes() instead.\n",
      "  ch_name = ch_name[:np.argmax(ch_name == b'')].tostring()\n",
      "C:\\Users\\Dell\\Anaconda3\\lib\\site-packages\\mne\\io\\tag.py:427: DeprecationWarning: tostring() is deprecated. Use tobytes() instead.\n",
      "  ch_name = ch_name[:np.argmax(ch_name == b'')].tostring()\n",
      "C:\\Users\\Dell\\Anaconda3\\lib\\site-packages\\mne\\io\\tag.py:427: DeprecationWarning: tostring() is deprecated. Use tobytes() instead.\n",
      "  ch_name = ch_name[:np.argmax(ch_name == b'')].tostring()\n",
      "C:\\Users\\Dell\\Anaconda3\\lib\\site-packages\\mne\\io\\tag.py:427: DeprecationWarning: tostring() is deprecated. Use tobytes() instead.\n",
      "  ch_name = ch_name[:np.argmax(ch_name == b'')].tostring()\n",
      "C:\\Users\\Dell\\Anaconda3\\lib\\site-packages\\mne\\io\\tag.py:427: DeprecationWarning: tostring() is deprecated. Use tobytes() instead.\n",
      "  ch_name = ch_name[:np.argmax(ch_name == b'')].tostring()\n",
      "C:\\Users\\Dell\\Anaconda3\\lib\\site-packages\\mne\\io\\tag.py:427: DeprecationWarning: tostring() is deprecated. Use tobytes() instead.\n",
      "  ch_name = ch_name[:np.argmax(ch_name == b'')].tostring()\n",
      "C:\\Users\\Dell\\Anaconda3\\lib\\site-packages\\mne\\io\\tag.py:427: DeprecationWarning: tostring() is deprecated. Use tobytes() instead.\n",
      "  ch_name = ch_name[:np.argmax(ch_name == b'')].tostring()\n",
      "C:\\Users\\Dell\\Anaconda3\\lib\\site-packages\\mne\\io\\tag.py:427: DeprecationWarning: tostring() is deprecated. Use tobytes() instead.\n",
      "  ch_name = ch_name[:np.argmax(ch_name == b'')].tostring()\n",
      "C:\\Users\\Dell\\Anaconda3\\lib\\site-packages\\mne\\io\\tag.py:427: DeprecationWarning: tostring() is deprecated. Use tobytes() instead.\n",
      "  ch_name = ch_name[:np.argmax(ch_name == b'')].tostring()\n",
      "C:\\Users\\Dell\\Anaconda3\\lib\\site-packages\\mne\\io\\tag.py:427: DeprecationWarning: tostring() is deprecated. Use tobytes() instead.\n",
      "  ch_name = ch_name[:np.argmax(ch_name == b'')].tostring()\n",
      "C:\\Users\\Dell\\Anaconda3\\lib\\site-packages\\mne\\io\\tag.py:427: DeprecationWarning: tostring() is deprecated. Use tobytes() instead.\n",
      "  ch_name = ch_name[:np.argmax(ch_name == b'')].tostring()\n",
      "C:\\Users\\Dell\\Anaconda3\\lib\\site-packages\\mne\\io\\tag.py:427: DeprecationWarning: tostring() is deprecated. Use tobytes() instead.\n",
      "  ch_name = ch_name[:np.argmax(ch_name == b'')].tostring()\n",
      "C:\\Users\\Dell\\Anaconda3\\lib\\site-packages\\mne\\io\\tag.py:427: DeprecationWarning: tostring() is deprecated. Use tobytes() instead.\n",
      "  ch_name = ch_name[:np.argmax(ch_name == b'')].tostring()\n",
      "C:\\Users\\Dell\\Anaconda3\\lib\\site-packages\\mne\\io\\tag.py:427: DeprecationWarning: tostring() is deprecated. Use tobytes() instead.\n",
      "  ch_name = ch_name[:np.argmax(ch_name == b'')].tostring()\n",
      "C:\\Users\\Dell\\Anaconda3\\lib\\site-packages\\mne\\io\\tag.py:427: DeprecationWarning: tostring() is deprecated. Use tobytes() instead.\n",
      "  ch_name = ch_name[:np.argmax(ch_name == b'')].tostring()\n",
      "C:\\Users\\Dell\\Anaconda3\\lib\\site-packages\\mne\\io\\tag.py:427: DeprecationWarning: tostring() is deprecated. Use tobytes() instead.\n",
      "  ch_name = ch_name[:np.argmax(ch_name == b'')].tostring()\n",
      "C:\\Users\\Dell\\Anaconda3\\lib\\site-packages\\mne\\io\\tag.py:427: DeprecationWarning: tostring() is deprecated. Use tobytes() instead.\n",
      "  ch_name = ch_name[:np.argmax(ch_name == b'')].tostring()\n",
      "C:\\Users\\Dell\\Anaconda3\\lib\\site-packages\\mne\\io\\tag.py:427: DeprecationWarning: tostring() is deprecated. Use tobytes() instead.\n",
      "  ch_name = ch_name[:np.argmax(ch_name == b'')].tostring()\n",
      "C:\\Users\\Dell\\Anaconda3\\lib\\site-packages\\mne\\io\\tag.py:427: DeprecationWarning: tostring() is deprecated. Use tobytes() instead.\n",
      "  ch_name = ch_name[:np.argmax(ch_name == b'')].tostring()\n",
      "C:\\Users\\Dell\\Anaconda3\\lib\\site-packages\\mne\\io\\tag.py:427: DeprecationWarning: tostring() is deprecated. Use tobytes() instead.\n",
      "  ch_name = ch_name[:np.argmax(ch_name == b'')].tostring()\n",
      "C:\\Users\\Dell\\Anaconda3\\lib\\site-packages\\mne\\io\\tag.py:427: DeprecationWarning: tostring() is deprecated. Use tobytes() instead.\n",
      "  ch_name = ch_name[:np.argmax(ch_name == b'')].tostring()\n",
      "C:\\Users\\Dell\\Anaconda3\\lib\\site-packages\\mne\\io\\tag.py:427: DeprecationWarning: tostring() is deprecated. Use tobytes() instead.\n",
      "  ch_name = ch_name[:np.argmax(ch_name == b'')].tostring()\n",
      "C:\\Users\\Dell\\Anaconda3\\lib\\site-packages\\mne\\io\\tag.py:427: DeprecationWarning: tostring() is deprecated. Use tobytes() instead.\n",
      "  ch_name = ch_name[:np.argmax(ch_name == b'')].tostring()\n",
      "C:\\Users\\Dell\\Anaconda3\\lib\\site-packages\\mne\\io\\tag.py:427: DeprecationWarning: tostring() is deprecated. Use tobytes() instead.\n",
      "  ch_name = ch_name[:np.argmax(ch_name == b'')].tostring()\n",
      "C:\\Users\\Dell\\Anaconda3\\lib\\site-packages\\mne\\io\\tag.py:427: DeprecationWarning: tostring() is deprecated. Use tobytes() instead.\n",
      "  ch_name = ch_name[:np.argmax(ch_name == b'')].tostring()\n",
      "C:\\Users\\Dell\\Anaconda3\\lib\\site-packages\\mne\\io\\tag.py:427: DeprecationWarning: tostring() is deprecated. Use tobytes() instead.\n",
      "  ch_name = ch_name[:np.argmax(ch_name == b'')].tostring()\n",
      "C:\\Users\\Dell\\Anaconda3\\lib\\site-packages\\mne\\io\\tag.py:427: DeprecationWarning: tostring() is deprecated. Use tobytes() instead.\n",
      "  ch_name = ch_name[:np.argmax(ch_name == b'')].tostring()\n",
      "C:\\Users\\Dell\\Anaconda3\\lib\\site-packages\\mne\\io\\tag.py:427: DeprecationWarning: tostring() is deprecated. Use tobytes() instead.\n",
      "  ch_name = ch_name[:np.argmax(ch_name == b'')].tostring()\n",
      "C:\\Users\\Dell\\Anaconda3\\lib\\site-packages\\mne\\io\\tag.py:427: DeprecationWarning: tostring() is deprecated. Use tobytes() instead.\n",
      "  ch_name = ch_name[:np.argmax(ch_name == b'')].tostring()\n",
      "C:\\Users\\Dell\\Anaconda3\\lib\\site-packages\\mne\\io\\tag.py:427: DeprecationWarning: tostring() is deprecated. Use tobytes() instead.\n",
      "  ch_name = ch_name[:np.argmax(ch_name == b'')].tostring()\n",
      "C:\\Users\\Dell\\Anaconda3\\lib\\site-packages\\mne\\io\\tag.py:427: DeprecationWarning: tostring() is deprecated. Use tobytes() instead.\n",
      "  ch_name = ch_name[:np.argmax(ch_name == b'')].tostring()\n",
      "C:\\Users\\Dell\\Anaconda3\\lib\\site-packages\\mne\\io\\tag.py:427: DeprecationWarning: tostring() is deprecated. Use tobytes() instead.\n",
      "  ch_name = ch_name[:np.argmax(ch_name == b'')].tostring()\n",
      "C:\\Users\\Dell\\Anaconda3\\lib\\site-packages\\mne\\io\\tag.py:427: DeprecationWarning: tostring() is deprecated. Use tobytes() instead.\n",
      "  ch_name = ch_name[:np.argmax(ch_name == b'')].tostring()\n",
      "C:\\Users\\Dell\\Anaconda3\\lib\\site-packages\\mne\\io\\tag.py:427: DeprecationWarning: tostring() is deprecated. Use tobytes() instead.\n",
      "  ch_name = ch_name[:np.argmax(ch_name == b'')].tostring()\n",
      "C:\\Users\\Dell\\Anaconda3\\lib\\site-packages\\mne\\io\\tag.py:427: DeprecationWarning: tostring() is deprecated. Use tobytes() instead.\n",
      "  ch_name = ch_name[:np.argmax(ch_name == b'')].tostring()\n",
      "C:\\Users\\Dell\\Anaconda3\\lib\\site-packages\\mne\\io\\tag.py:427: DeprecationWarning: tostring() is deprecated. Use tobytes() instead.\n",
      "  ch_name = ch_name[:np.argmax(ch_name == b'')].tostring()\n",
      "C:\\Users\\Dell\\Anaconda3\\lib\\site-packages\\mne\\io\\tag.py:427: DeprecationWarning: tostring() is deprecated. Use tobytes() instead.\n",
      "  ch_name = ch_name[:np.argmax(ch_name == b'')].tostring()\n",
      "C:\\Users\\Dell\\Anaconda3\\lib\\site-packages\\mne\\io\\tag.py:427: DeprecationWarning: tostring() is deprecated. Use tobytes() instead.\n",
      "  ch_name = ch_name[:np.argmax(ch_name == b'')].tostring()\n",
      "C:\\Users\\Dell\\Anaconda3\\lib\\site-packages\\mne\\io\\tag.py:427: DeprecationWarning: tostring() is deprecated. Use tobytes() instead.\n",
      "  ch_name = ch_name[:np.argmax(ch_name == b'')].tostring()\n",
      "C:\\Users\\Dell\\Anaconda3\\lib\\site-packages\\mne\\io\\tag.py:427: DeprecationWarning: tostring() is deprecated. Use tobytes() instead.\n",
      "  ch_name = ch_name[:np.argmax(ch_name == b'')].tostring()\n",
      "C:\\Users\\Dell\\Anaconda3\\lib\\site-packages\\mne\\io\\tag.py:427: DeprecationWarning: tostring() is deprecated. Use tobytes() instead.\n",
      "  ch_name = ch_name[:np.argmax(ch_name == b'')].tostring()\n",
      "C:\\Users\\Dell\\Anaconda3\\lib\\site-packages\\mne\\io\\tag.py:427: DeprecationWarning: tostring() is deprecated. Use tobytes() instead.\n",
      "  ch_name = ch_name[:np.argmax(ch_name == b'')].tostring()\n",
      "C:\\Users\\Dell\\Anaconda3\\lib\\site-packages\\mne\\io\\tag.py:427: DeprecationWarning: tostring() is deprecated. Use tobytes() instead.\n",
      "  ch_name = ch_name[:np.argmax(ch_name == b'')].tostring()\n",
      "C:\\Users\\Dell\\Anaconda3\\lib\\site-packages\\mne\\io\\tag.py:427: DeprecationWarning: tostring() is deprecated. Use tobytes() instead.\n",
      "  ch_name = ch_name[:np.argmax(ch_name == b'')].tostring()\n",
      "C:\\Users\\Dell\\Anaconda3\\lib\\site-packages\\mne\\io\\tag.py:427: DeprecationWarning: tostring() is deprecated. Use tobytes() instead.\n",
      "  ch_name = ch_name[:np.argmax(ch_name == b'')].tostring()\n",
      "C:\\Users\\Dell\\Anaconda3\\lib\\site-packages\\mne\\io\\tag.py:427: DeprecationWarning: tostring() is deprecated. Use tobytes() instead.\n",
      "  ch_name = ch_name[:np.argmax(ch_name == b'')].tostring()\n",
      "C:\\Users\\Dell\\Anaconda3\\lib\\site-packages\\mne\\io\\tag.py:427: DeprecationWarning: tostring() is deprecated. Use tobytes() instead.\n",
      "  ch_name = ch_name[:np.argmax(ch_name == b'')].tostring()\n",
      "C:\\Users\\Dell\\Anaconda3\\lib\\site-packages\\mne\\io\\tag.py:427: DeprecationWarning: tostring() is deprecated. Use tobytes() instead.\n",
      "  ch_name = ch_name[:np.argmax(ch_name == b'')].tostring()\n",
      "C:\\Users\\Dell\\Anaconda3\\lib\\site-packages\\mne\\io\\tag.py:427: DeprecationWarning: tostring() is deprecated. Use tobytes() instead.\n",
      "  ch_name = ch_name[:np.argmax(ch_name == b'')].tostring()\n",
      "C:\\Users\\Dell\\Anaconda3\\lib\\site-packages\\mne\\io\\tag.py:427: DeprecationWarning: tostring() is deprecated. Use tobytes() instead.\n",
      "  ch_name = ch_name[:np.argmax(ch_name == b'')].tostring()\n",
      "C:\\Users\\Dell\\Anaconda3\\lib\\site-packages\\mne\\io\\tag.py:348: DeprecationWarning: tostring() is deprecated. Use tobytes() instead.\n",
      "  return str(d.tostring().decode('latin1', 'ignore'))\n",
      "C:\\Users\\Dell\\Anaconda3\\lib\\site-packages\\mne\\io\\tag.py:348: DeprecationWarning: tostring() is deprecated. Use tobytes() instead.\n",
      "  return str(d.tostring().decode('latin1', 'ignore'))\n"
     ]
    },
    {
     "name": "stdout",
     "output_type": "stream",
     "text": [
      "104 matching events found\n",
      "Applying baseline correction (mode: mean)\n",
      "Not setting metadata\n",
      "0 projection items activated\n",
      "Applying baseline correction (mode: mean)\n"
     ]
    }
   ],
   "source": [
    "#path = 'D:/Science/EEG_data/'\n",
    "path = 'C:/Users/Dell/GitHub/CoCoBrainChannel/'\n",
    "epochs = mne.read_epochs(path+'pareidolia_run2.fif')\n",
    "#epochs = mne.read_epochs('C:/Users/Antoine/github/Data_EEG/pareidolia_run1.fif')\n",
    "epochs = epochs.apply_baseline((-1.5, -0.1))\n",
    "#epochs = epochs.crop(0.5, 7.5)\n",
    "epochs_data = epochs.get_data()"
   ]
  },
  {
   "cell_type": "markdown",
   "metadata": {},
   "source": [
    "## Phase-Amplitude Coupling\n",
    "\n",
    "The comodulogram is a matrix representing the strength of the coupling between the phase of driver frequencies and the amplitude of signal frequencies. The 'pac' method allows to extract pairs of driver/signal frequencies that exhibit higher scores of coupling"
   ]
  },
  {
   "cell_type": "code",
   "execution_count": 5,
   "metadata": {
    "scrolled": true
   },
   "outputs": [
    {
     "data": {
      "image/png": "[encoded data removed]",
      "text/plain": [
       "<Figure size 288x216 with 2 Axes>"
      ]
     },
     "metadata": {
      "needs_background": "light"
     },
     "output_type": "display_data"
    }
   ],
   "source": [
    "data = epochs_data[13][34][:] # Define data (single time series)\n",
    "biotuning = biotuner(1000, data = data, peaks_function = 'harmonic_peaks', precision = 0.1, n_harm = 10,\n",
    "                    ratios_n_harms = 5, ratios_inc_fit = False, ratios_inc = True, scale_cons_limit = 0.1) # Initialize biotuner object\n",
    "pac_freqs = biotuning.pac(n_values = 30, plot=True, drive_precision = 0.1, max_drive_freq = 7, method = 'penny')"
   ]
  },
  {
   "cell_type": "markdown",
   "metadata": {},
   "source": [
    "Different methods can be used to compute the PAC:\n",
    "methods = ['ozkurt', 'canolty', 'tort', 'penny', 'vanwijk', 'duprelatour', 'colgin',\n",
    "    'sigl', 'bispectrum']"
   ]
  },
  {
   "cell_type": "code",
   "execution_count": 6,
   "metadata": {},
   "outputs": [
    {
     "data": {
      "text/plain": [
       "[[3.6, 43.0],\n",
       " [3.6, 42.0],\n",
       " [3.6, 31.0],\n",
       " [3.6, 40.0],\n",
       " [3.6, 29.0],\n",
       " [3.6, 39.0],\n",
       " [3.6, 23.0],\n",
       " [3.6, 41.0],\n",
       " [3.6, 37.0],\n",
       " [3.6, 38.0]]"
      ]
     },
     "execution_count": 6,
     "metadata": {},
     "output_type": "execute_result"
    },
    {
     "data": {
      "image/png": "[encoded data removed]",
      "text/plain": [
       "<Figure size 288x216 with 2 Axes>"
      ]
     },
     "metadata": {
      "needs_background": "light"
     },
     "output_type": "display_data"
    }
   ],
   "source": [
    "pac_freqs = biotuning.pac(plot=True, drive_precision = 0.1, max_drive_freq = 7, method = 'ozkurt')\n",
    "pac_freqs"
   ]
  },
  {
   "cell_type": "markdown",
   "metadata": {},
   "source": [
    "## Deriving tunings from PAC information\n",
    "\n",
    "By computing the most frequent phase and amplitude frequencies from the 'pac_freqs' lists, we can derive a series of ratios by coupling each phase with each amplitude frequencies"
   ]
  },
  {
   "cell_type": "code",
   "execution_count": 7,
   "metadata": {
    "scrolled": true
   },
   "outputs": [
    {
     "data": {
      "text/plain": [
       "[[38.0, 37.0, 41.0], [3.6]]"
      ]
     },
     "execution_count": 7,
     "metadata": {},
     "output_type": "execute_result"
    }
   ],
   "source": [
    "pac_frequent = pac_most_frequent(pac_freqs, 3)\n",
    "pac_frequent"
   ]
  },
  {
   "cell_type": "code",
   "execution_count": 8,
   "metadata": {},
   "outputs": [
    {
     "data": {
      "text/plain": [
       "[1.284722222222222, 1.3194444444444444, 1.4236111111111112]"
      ]
     },
     "execution_count": 8,
     "metadata": {},
     "output_type": "execute_result"
    }
   ],
   "source": [
    "ratios = []\n",
    "for i in range(len(pac_frequent[0])):\n",
    "    for j in range(len(pac_frequent[1])):\n",
    "        ratios.append(rebound(pac_frequent[0][i]/pac_frequent[1][j]))\n",
    "        \n",
    "ratios = sorted(ratios)\n",
    "ratios"
   ]
  },
  {
   "cell_type": "markdown",
   "metadata": {},
   "source": [
    "Another approach to derive tuning based on the information of the Phase-Amplitude Coupling would be to compute the ratios of each pairs of phase/amplitude frequencies, and then to apply the 'scale_reduction' function to extract the most consonant intervals. This is what the pac_mode function does."
   ]
  },
  {
   "cell_type": "code",
   "execution_count": 9,
   "metadata": {},
   "outputs": [
    {
     "data": {
      "text/plain": [
       "[1.0764, 1.3194, 1.3542, 1.3889, 1.4583, 1.5972]"
      ]
     },
     "execution_count": 9,
     "metadata": {},
     "output_type": "execute_result"
    }
   ],
   "source": [
    "pac_mode(pac_freqs, 6, function=dyad_similarity)"
   ]
  },
  {
   "cell_type": "code",
   "execution_count": 10,
   "metadata": {},
   "outputs": [
    {
     "data": {
      "text/plain": [
       "[1.0069,\n",
       " 1.0764,\n",
       " 1.2847,\n",
       " 1.3194,\n",
       " 1.3542,\n",
       " 1.3889,\n",
       " 1.4236,\n",
       " 1.4583,\n",
       " 1.4931,\n",
       " 1.5972]"
      ]
     },
     "execution_count": 10,
     "metadata": {},
     "output_type": "execute_result"
    }
   ],
   "source": [
    "pac_mode(pac_freqs, 10)"
   ]
  },
  {
   "cell_type": "markdown",
   "metadata": {},
   "source": [
    "### Using coupled frequencies as generator interval"
   ]
  },
  {
   "cell_type": "code",
   "execution_count": 11,
   "metadata": {},
   "outputs": [
    {
     "data": {
      "text/latex": [
       "$\\displaystyle \\frac{215}{144}$"
      ],
      "text/plain": [
       "215/144"
      ]
     },
     "execution_count": 11,
     "metadata": {},
     "output_type": "execute_result"
    }
   ],
   "source": [
    "ratio = rebound(pac_freqs[0][1]/pac_freqs[0][0])\n",
    "sp.Rational(ratio).limit_denominator(1000)"
   ]
  },
  {
   "cell_type": "code",
   "execution_count": 22,
   "metadata": {},
   "outputs": [
    {
     "data": {
      "text/plain": [
       "[1.0337411204007074,\n",
       " 1.1146074459876543,\n",
       " 1.1522155500222488,\n",
       " 1.2423497586511218,\n",
       " 1.2842680314375592,\n",
       " 1.3847322915135056,\n",
       " 1.4930555555555556,\n",
       " 1.5434329228205006,\n",
       " 1.6641708394954562,\n",
       " 1.7203218281582187,\n",
       " 1.8548972090971612,\n",
       " 1.9174835191602446]"
      ]
     },
     "execution_count": 22,
     "metadata": {},
     "output_type": "execute_result"
    }
   ],
   "source": [
    "limit_steps = 16\n",
    "stern_brocot_ratio = gen_interval_to_stern_brocot (ratio)\n",
    "steps = Fraction(stern_brocot_ratio).limit_denominator(16).denominator\n",
    "gen_int_tuning = sorted(generator_interval_tuning (interval = ratio, steps = steps, octave = 2))\n",
    "gen_int_tuning"
   ]
  },
  {
   "cell_type": "markdown",
   "metadata": {},
   "source": [
    "## Deriving euclidian rhythms from PAC information"
   ]
  },
  {
   "cell_type": "code",
   "execution_count": 23,
   "metadata": {},
   "outputs": [
    {
     "data": {
      "text/plain": [
       "([[1, 0],\n",
       "  [1, 0, 0],\n",
       "  [1, 0, 0, 0],\n",
       "  [1, 0, 0, 0, 1, 0, 0, 0],\n",
       "  [1, 0, 0, 0, 1, 0, 0, 0, 1, 0, 0, 0],\n",
       "  [1, 0, 0, 1, 0, 0],\n",
       "  [1, 0, 0, 1, 0, 0, 1, 0, 0, 1, 0, 0],\n",
       "  [1, 0, 1, 0, 1, 0],\n",
       "  [1, 0, 1, 0, 1, 0, 1, 0],\n",
       "  [1, 1, 1, 0],\n",
       "  [1, 1, 1, 0, 1, 1, 1, 0],\n",
       "  [1, 1, 1, 0, 1, 1, 1, 0, 1, 1, 1, 0]],\n",
       " [[2],\n",
       "  [3],\n",
       "  [4],\n",
       "  [4, 4],\n",
       "  [4, 4, 4],\n",
       "  [3, 3],\n",
       "  [3, 3, 3, 3],\n",
       "  [2, 2, 2],\n",
       "  [2, 2, 2, 2],\n",
       "  [1, 1, 2],\n",
       "  [1, 1, 2, 1, 1, 2],\n",
       "  [1, 1, 2, 1, 1, 2, 1, 1, 2]],\n",
       " ['None',\n",
       "  'None',\n",
       "  'None',\n",
       "  'None',\n",
       "  'None',\n",
       "  'None',\n",
       "  'It is periodic with four repetitions of E(1,3) = [100]. It is the (12/8)-time Fandago clapping pattern in the Flamenco music of southern Spain, where 1 denotes a loud clap and 0 soft clap.',\n",
       "  'None',\n",
       "  'None',\n",
       "  'It is the archetypal pattern of the Cumbia from Colombia, as well as a Calypso rhythm from Trinidad. It is also a thirteenth century Persian rhythm called Khalif-e-saghil, as well as the trochoid choreic rhythmic pattern of ancient Greece.',\n",
       "  'None',\n",
       "  'None'])"
      ]
     },
     "execution_count": 23,
     "metadata": {},
     "output_type": "execute_result"
    }
   ],
   "source": [
    "from biotuner.dictionaries import *\n",
    "pac_scale = pac_mode(pac_freqs, 10, function=dyad_similarity)\n",
    "euclid_final, cons = consonant_euclid(pac_scale, n_steps_down = 3, limit_denom = 4, \n",
    "                                      limit_cons =1, limit_denom_final = 100)\n",
    "interval_vectors = [interval_vector(x) for x in euclid_final]\n",
    "strings = interval_vec_to_string(interval_vectors)\n",
    "euclid_referent = euclid_string_to_referent(strings, dict_rhythms)\n",
    "euclid_final, interval_vectors, euclid_referent"
   ]
  }
 ],
 "metadata": {
  "kernelspec": {
   "display_name": "Python 3",
   "language": "python",
   "name": "python3"
  },
  "language_info": {
   "codemirror_mode": {
    "name": "ipython",
    "version": 3
   },
   "file_extension": ".py",
   "mimetype": "text/x-python",
   "name": "python",
   "nbconvert_exporter": "python",
   "pygments_lexer": "ipython3",
   "version": "3.7.4"
  }
 },
 "nbformat": 4,
 "nbformat_minor": 5
}
