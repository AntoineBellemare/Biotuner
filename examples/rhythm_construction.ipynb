{
 "cells": [
  {
   "cell_type": "code",
   "execution_count": 49,
   "metadata": {},
   "outputs": [],
   "source": [
    "import numpy as np\n",
    "import biotuner\n",
    "from biotuner.biotuner_utils import *\n",
    "from biotuner.biotuner_object import *\n",
    "from biotuner.dictionaries import *\n",
    "import matplotlib.pyplot as plt\n",
    "import pytuning.visualizations.scales\n",
    "from pytuning.visualizations.scales import consonance_matrix\n",
    "import csv\n",
    "import os\n",
    "import time\n",
    "import warnings\n",
    "warnings.filterwarnings('ignore', category=DeprecationWarning)"
   ]
  },
  {
   "attachments": {},
   "cell_type": "markdown",
   "metadata": {},
   "source": [
    "This notebook is intended to demonstrate the use of the biotuner (https://github.com/antoineBellemare/biotuner/)\n",
    "\n",
    "The core idea is to extract harmonic information from biological time series to inform the computation of musical structures\n",
    "\n",
    "The terms ''tuning'' and ''scale'' will be used interchangeably, referring to a series of ratios that subdivides an octave."
   ]
  },
  {
   "cell_type": "markdown",
   "metadata": {},
   "source": [
    "## Load dataset"
   ]
  },
  {
   "cell_type": "code",
   "execution_count": 50,
   "metadata": {},
   "outputs": [],
   "source": [
    "data = np.load('data_examples/EEG_pareidolia/parei_data_1000ts.npy')"
   ]
  },
  {
   "attachments": {},
   "cell_type": "markdown",
   "metadata": {},
   "source": [
    "## Using the peaks_extraction method\n",
    "\n",
    "There is no minimum size for time series. However, keep in mind that the minimum frequency that can be observed using spectral decomposition is dependant on the length of your time series. for example, if the sampling frequency equals 1000Hz, time series shorter than 1 second will not allow for peak extraction below 2Hz.\n",
    "\n",
    "Peaks functions (link to doc):\n",
    "\n",
    "'fixed' : ranges of frequency bands are fixed\n",
    "\n",
    "'adapt' : ranges of frequency bands are defined based on the alpha peak\n",
    "\n",
    "'EMD': Intrinsic Mode Functions (IMFs) are derived from Empirical Mode Decomposition (EMD)  \n",
    "                   FFT is computed on each IMF\n",
    "                   \n",
    "'EEMD': Intrinsic Mode Functions (IMFs) are derived from Ensemble Empirical Mode Decomposition (EMD)  \n",
    "                    FFT is computed on each IMF\n",
    "                    \n",
    "'HH1D_max': maximum values of the 1d Hilbert-Huang transform on each IMF using EEMD.\n",
    "\n",
    "'harmonic_recurrence': keeps peaks for which a maximum of other peaks are harmonics\n",
    "\n",
    "'cepstrum': peak frequencies of the cepstrum (inverse Fourier transform (IFT) of the logarithm of the estimated signal spectrum)\n",
    "\n",
    "'FOOOF' : peaks rising above the aperiodic component"
   ]
  },
  {
   "cell_type": "code",
   "execution_count": 51,
   "metadata": {
    "scrolled": false
   },
   "outputs": [
    {
     "name": "stdout",
     "output_type": "stream",
     "text": [
      "Index_max: all zeros indicate 1/f trend [0, 7, 2, 11, 1, 17]\n",
      "Number of peaks : 6\n",
      "2.948944091796875\n"
     ]
    }
   ],
   "source": [
    "data_ = data[28]\n",
    "start = time.time()\n",
    "FREQ_BANDS = [[1, 3], [3, 7], [7, 12], [12, 18], [18, 30], [30, 45]] # Define frequency bands for peaks_function = 'fixed'\n",
    "\n",
    "biotuning = compute_biotuner(sf = 1000, peaks_function = 'fixed', precision = 0.5, n_harm = 10,\n",
    "                    ratios_n_harms = 5, ratios_inc_fit = True, ratios_inc = True) # Initialize biotuner object\n",
    "\n",
    "biotuning.peaks_extraction(data_, FREQ_BANDS = FREQ_BANDS, ratios_extension = True, max_freq = 30, n_peaks=5,\n",
    "                          graph=False, min_harms=2)\n",
    "biotuning.compute_peaks_metrics()\n",
    "\n",
    "stop = time.time()\n",
    "print(stop-start)"
   ]
  },
  {
   "cell_type": "code",
   "execution_count": 52,
   "metadata": {},
   "outputs": [
    {
     "data": {
      "text/plain": [
       "array([ 1. ,  6.5,  8. , 17.5, 18.5, 38.5])"
      ]
     },
     "execution_count": 52,
     "metadata": {},
     "output_type": "execute_result"
    }
   ],
   "source": [
    "# Print the extracted peaks\n",
    "biotuning.peaks"
   ]
  },
  {
   "cell_type": "markdown",
   "metadata": {},
   "source": [
    "## Constructing euclidian rhythms from biotunings\n",
    "\n",
    "Euclidian rhythms represent an even distribution of pulses within a specified number of steps. It is possible to convert frequency ratios into euclidian rhythms in that a ratio's numerator can be seen as the number of pulses and a ratio's denominator as the number of steps within which the pulses should be distributed. "
   ]
  },
  {
   "cell_type": "code",
   "execution_count": null,
   "metadata": {},
   "outputs": [],
   "source": [
    "# Initialize biotuner object\n",
    "biotuning_harm_peaks = compute_biotuner(sf = 1000, peaks_function = 'harmonic_recurrence', precision = 0.5) \n",
    "\n",
    "# Extract spectral peaks\n",
    "biotuning_harm_peaks.peaks_extraction(data_, min_freq = 5, max_freq = 20, min_harms = 2, harm_limit = 128)\n",
    "print(biotuning_harm_peaks.all_harmonics)\n",
    "\n",
    "biotuning_harm_peaks.peaks_extraction(data_, min_freq = 5, max_freq = 20, min_harms = 4, harm_limit = 128)\n",
    "print(biotuning_harm_peaks.all_harmonics)"
   ]
  },
  {
   "cell_type": "code",
   "execution_count": null,
   "metadata": {},
   "outputs": [],
   "source": [
    "harm_tuning = harmonic_tuning(biotuning_harm_peaks.all_harmonics)\n",
    "harm_tuning"
   ]
  },
  {
   "cell_type": "code",
   "execution_count": 88,
   "metadata": {},
   "outputs": [
    {
     "ename": "NameError",
     "evalue": "name 'sort_scale_by_consonance' is not defined",
     "output_type": "error",
     "traceback": [
      "\u001b[1;31m---------------------------------------------------------------------------\u001b[0m",
      "\u001b[1;31mNameError\u001b[0m                                 Traceback (most recent call last)",
      "Cell \u001b[1;32mIn[88], line 1\u001b[0m\n\u001b[1;32m----> 1\u001b[0m cons_harm_tuning \u001b[39m=\u001b[39m sort_scale_by_consonance(harm_tuning) \u001b[39m# sorting a tuning by consonance of intervals\u001b[39;00m\n\u001b[0;32m      2\u001b[0m cons_harm_tuning\n",
      "\u001b[1;31mNameError\u001b[0m: name 'sort_scale_by_consonance' is not defined"
     ]
    }
   ],
   "source": [
    "cons_harm_tuning = sort_scale_by_consonance(harm_tuning) # sorting a tuning by consonance of intervals\n",
    "cons_harm_tuning"
   ]
  },
  {
   "cell_type": "markdown",
   "metadata": {},
   "source": [
    "'scale2euclid' function derives euclidian rhythms from a series of ratios.\n",
    "\n",
    "When mode = 'normal', the ratios are inverted and the numerator is taken as the number of pulses and the denominator as the number of steps (e.g. 3/2 -> 2pulses/3steps).\n",
    "\n",
    "When mode = 'full', the ratios are inverted. The number of steps corresponds to num*denom and the numbers of pulses correspond to both the initial numerator and denominator (e.g. 3/2 -> 3pulses/6steps and 2pulses/6steps)"
   ]
  },
  {
   "cell_type": "code",
   "execution_count": null,
   "metadata": {},
   "outputs": [
    {
     "data": {
      "text/plain": [
       "([5/4, 7/4, 9/8, 13/8, 15/8, 17/16],\n",
       " [[1, 1, 1, 1, 0],\n",
       "  [1, 0, 1, 0, 1, 0, 1],\n",
       "  [1, 1, 1, 1, 1, 1, 1, 1, 0],\n",
       "  [1, 0, 1, 1, 0, 1, 0, 1, 1, 0, 1, 0, 1],\n",
       "  [1, 0, 1, 0, 1, 0, 1, 0, 1, 0, 1, 0, 1, 0, 1],\n",
       "  [1, 1, 1, 1, 1, 1, 1, 1, 1, 1, 1, 1, 1, 1, 1, 1, 0]],\n",
       " [[1, 1, 1, 2],\n",
       "  [2, 2, 2, 1],\n",
       "  [1, 1, 1, 1, 1, 1, 1, 2],\n",
       "  [2, 1, 2, 2, 1, 2, 2, 1],\n",
       "  [2, 2, 2, 2, 2, 2, 2, 1],\n",
       "  [1, 1, 1, 1, 1, 1, 1, 1, 1, 1, 1, 1, 1, 1, 1, 2]])"
      ]
     },
     "execution_count": 9,
     "metadata": {},
     "output_type": "execute_result"
    }
   ],
   "source": [
    "euclid_patterns = scale2euclid(cons_harm_tuning[2:8], max_denom = 16, mode = 'normal')\n",
    "harm_tuning_frac, _, _ = scale2frac(cons_harm_tuning[2:8])\n",
    "interval_vectors = [interval_vector(x) for x in euclid_patterns]\n",
    "harm_tuning_frac, euclid_patterns, interval_vectors"
   ]
  },
  {
   "cell_type": "markdown",
   "metadata": {},
   "source": [
    "'consonant_euclid' function derives euclidian rhythm from a set of consonant intervals. \n",
    "\n",
    "First, a set of denominators is defined by finding the common denominator of each pair of ratios (e.g. 3/5 and 4/7 give 5*7=35). \n",
    "\n",
    "The consonance is computed on each pairs of denominators to find harmonic subdivisions. Only the euclidian rhythms from consonant denominators (steps) are returned."
   ]
  },
  {
   "cell_type": "code",
   "execution_count": null,
   "metadata": {},
   "outputs": [
    {
     "name": "stderr",
     "output_type": "stream",
     "text": [
      "C:\\Users\\Dell\\Anaconda3\\envs\\biotuner\\lib\\fractions.py:597: RuntimeWarning: overflow encountered in longlong_scalars\n",
      "  self._denominator * other.numerator)\n"
     ]
    },
    {
     "data": {
      "text/plain": [
       "([[1, 0],\n",
       "  [1, 0, 0],\n",
       "  [1, 0, 0, 0],\n",
       "  [1, 0, 0, 0, 1, 0, 0, 0],\n",
       "  [1, 0, 0, 0, 1, 0, 0, 0, 1, 0, 0, 0],\n",
       "  [1, 0, 0, 1, 0, 0],\n",
       "  [1, 0, 0, 1, 0, 0, 0],\n",
       "  [1, 0, 0, 1, 0, 0, 0, 1, 0, 0, 1, 0, 0, 0],\n",
       "  [1, 0, 0, 1, 0, 0, 1, 0, 0, 1, 0, 0],\n",
       "  [1, 0, 1, 0, 1, 0],\n",
       "  [1, 0, 1, 0, 1, 0, 0],\n",
       "  [1, 0, 1, 0, 1, 0, 0, 1, 0, 1, 0, 1, 0, 0],\n",
       "  [1, 0, 1, 0, 1, 0, 1, 0],\n",
       "  [1, 0, 1, 0, 1, 0, 1, 0, 1, 0, 1, 0, 1, 0],\n",
       "  [1, 0, 1, 0, 1, 0, 1, 0, 1, 0, 1, 0, 1, 0, 1, 0],\n",
       "  [1, 0, 1, 1, 0, 1, 1, 0],\n",
       "  [1, 0, 1, 1, 0, 1, 1, 0, 1, 0, 1, 1, 0, 1, 1, 0],\n",
       "  [1, 1, 1, 1, 1, 1, 0],\n",
       "  [1, 1, 1, 1, 1, 1, 0, 1, 1, 1, 1, 1, 1, 0]],\n",
       " [[2],\n",
       "  [3],\n",
       "  [4],\n",
       "  [4, 4],\n",
       "  [4, 4, 4],\n",
       "  [3, 3],\n",
       "  [3, 4],\n",
       "  [3, 4, 3, 4],\n",
       "  [3, 3, 3, 3],\n",
       "  [2, 2, 2],\n",
       "  [2, 2, 3],\n",
       "  [2, 2, 3, 2, 2, 3],\n",
       "  [2, 2, 2, 2],\n",
       "  [2, 2, 2, 2, 2, 2, 2],\n",
       "  [2, 2, 2, 2, 2, 2, 2, 2],\n",
       "  [2, 1, 2, 1, 2],\n",
       "  [2, 1, 2, 1, 2, 2, 1, 2, 1, 2],\n",
       "  [1, 1, 1, 1, 1, 2],\n",
       "  [1, 1, 1, 1, 1, 2, 1, 1, 1, 1, 1, 2]],\n",
       " ['None',\n",
       "  'None',\n",
       "  'None',\n",
       "  'None',\n",
       "  'None',\n",
       "  'None',\n",
       "  'None',\n",
       "  'None',\n",
       "  'It is periodic with four repetitions of E(1,3) = [100]. It is the (12/8)-time Fandago clapping pattern in the Flamenco music of southern Spain, where 1 denotes a loud clap and 0 soft clap.',\n",
       "  'None',\n",
       "  \"It is the Ruchenitza rhythm used in a Bulgarian folk-dance. It is also the metric pattern of Pink Floyd's Money.\",\n",
       "  'None',\n",
       "  'None',\n",
       "  'None',\n",
       "  'None',\n",
       "  'It is the Cuban cinquillo pattern, the Malfuf rhythmic pattern of Egypt, as well as the Korean Nong Pyon drum pattern. Started on the second onset, it is a popular Middle Eastern rhythm, as well as the Timini rhythm of Senegal, the Adzogbo dance rhythm of Benin, the Spanish Tango, the Maksum of Egypt, and a 13th century Persian rhythm, the Al-saghil-alsani. When it is started on the third onset it is the Musemmen rhythm of Turkey. When it is started on the fourth onset it is the Kromanti rhythm of Surinam.',\n",
       "  'None',\n",
       "  'It is the Pontakos rhythm of Greece when started on the sixth (last) onset.',\n",
       "  'None'])"
      ]
     },
     "execution_count": 12,
     "metadata": {},
     "output_type": "execute_result"
    }
   ],
   "source": [
    "euclid_final, cons = consonant_euclid(harm_tuning2, n_steps_down = 2, limit_denom = 8, \n",
    "                                      limit_cons = 0.1, limit_denom_final = 16)\n",
    "interval_vectors = [interval_vector(x) for x in euclid_final]\n",
    "strings = interval_vec_to_string(interval_vectors)\n",
    "euclid_referent = euclid_string_to_referent(strings, dict_rhythms)\n",
    "euclid_final, interval_vectors, euclid_referent"
   ]
  },
  {
   "cell_type": "code",
   "execution_count": null,
   "metadata": {},
   "outputs": [
    {
     "data": {
      "text/plain": [
       "[1, 1, 1, 2, 1, 1, 1, 2, 1, 1, 1, 2, 1]"
      ]
     },
     "execution_count": 13,
     "metadata": {},
     "output_type": "execute_result"
    }
   ],
   "source": [
    "interval_vector(bjorklund(16, 13))"
   ]
  }
 ],
 "metadata": {
  "kernelspec": {
   "display_name": "biotuner",
   "language": "python",
   "name": "biotuner"
  },
  "language_info": {
   "codemirror_mode": {
    "name": "ipython",
    "version": 3
   },
   "file_extension": ".py",
   "mimetype": "text/x-python",
   "name": "python",
   "nbconvert_exporter": "python",
   "pygments_lexer": "ipython3",
   "version": "3.8.15"
  }
 },
 "nbformat": 4,
 "nbformat_minor": 2
}
